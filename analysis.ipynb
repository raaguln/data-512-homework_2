{
  "nbformat": 4,
  "nbformat_minor": 0,
  "metadata": {
    "colab": {
      "provenance": [],
      "collapsed_sections": [
        "5CShDR5BSL7h",
        "u3ZeUR_cTksD",
        "GfAsSkRcSiPi",
        "9eEBP8QBT98h",
        "HDdumU2vSzJy",
        "tHbFvT5Xfmve",
        "-DCbNRR39BdP",
        "aC4G6EEb-8Vi",
        "n3UefygzA1of",
        "X0adPDTsA7Yq",
        "qt8CPexKBFGa",
        "2oRFBpYCBPj5",
        "najVfGthBYE0",
        "IJBnh8hZByXN"
      ]
    },
    "kernelspec": {
      "name": "python3",
      "display_name": "Python 3"
    },
    "language_info": {
      "name": "python"
    }
  },
  "cells": [
    {
      "cell_type": "markdown",
      "source": [
        "# Considering bias in data\n",
        "The goal of this analysis is to explore the concept of bias in data using Wikipedia articles. This analysis will consider articles on political figures from different countries. We will combine a dataset of Wikipedia articles with a dataset of country populations, and use a machine learning service called ORES to estimate the quality of each article.\n",
        "\n",
        "We will also perform an analysis of how the coverage of politicians on Wikipedia and the quality of articles about politicians varies among countries. It will consist of a series of tables that show:\n",
        "1. The countries with the greatest and least coverage of politicians on Wikipedia compared to their population.\n",
        "2. The countries with the highest and lowest proportion of high quality articles about politicians.\n",
        "3. A ranking of geographic regions by articles-per-person and proportion of high quality articles.\n"
      ],
      "metadata": {
        "id": "ajEZMGPTSIbq"
      }
    },
    {
      "cell_type": "markdown",
      "source": [
        "## 1. Setup\n",
        "Note - this analysis was done in Google Colab, which is a Jupyter Notebook setup that runs in cloud. It gets the data files from your Google Drive, for which it requires the below snipped works by making the data files available in Google Drive.\n"
      ],
      "metadata": {
        "id": "5CShDR5BSL7h"
      }
    },
    {
      "cell_type": "code",
      "execution_count": 1,
      "metadata": {
        "id": "KYNvd5i6IBP7",
        "colab": {
          "base_uri": "https://localhost:8080/"
        },
        "outputId": "bf6add40-f98f-4294-f949-a17ac2c18bb1"
      },
      "outputs": [
        {
          "output_type": "stream",
          "name": "stdout",
          "text": [
            "Mounted at /content/drive\n"
          ]
        }
      ],
      "source": [
        "from google.colab import drive\n",
        "drive.mount('/content/drive')"
      ]
    },
    {
      "cell_type": "markdown",
      "source": [
        "Change to the required path where all the data files are located. This will differ for each user."
      ],
      "metadata": {
        "id": "SiCmttmbSZHf"
      }
    },
    {
      "cell_type": "code",
      "source": [
        "%cd 'drive/MyDrive/data 512/week 2'"
      ],
      "metadata": {
        "id": "y0T5XiRzIGGW",
        "colab": {
          "base_uri": "https://localhost:8080/"
        },
        "outputId": "aa7b42e9-9597-4908-d3a9-e59ecc56f471"
      },
      "execution_count": 2,
      "outputs": [
        {
          "output_type": "stream",
          "name": "stdout",
          "text": [
            "/content/drive/MyDrive/data 512/week 2\n"
          ]
        }
      ]
    },
    {
      "cell_type": "markdown",
      "source": [
        "We're grabbing the ORES API access token and username from Google Colab's user data. This way, we can securely use the ORES service without hardcoding sensitive information."
      ],
      "metadata": {
        "id": "7BZNG7hLTYuD"
      }
    },
    {
      "cell_type": "code",
      "source": [
        "from google.colab import userdata\n",
        "\n",
        "ORES_ACCESS_TOKEN = userdata.get('ACCESS_TOKEN')\n",
        "ORES_USERNAME = userdata.get('USERNAME')"
      ],
      "metadata": {
        "id": "8BBt722PkpUZ"
      },
      "execution_count": 3,
      "outputs": []
    },
    {
      "cell_type": "markdown",
      "source": [
        "## 2. Loading packages and defining constants and functions\n",
        "Here, we load the necessary packages that we'll be using to fetch the data. We will also define the required API constants and define API calling functions that we will use later down when making the API calls."
      ],
      "metadata": {
        "id": "u3ZeUR_cTksD"
      }
    },
    {
      "cell_type": "markdown",
      "source": [],
      "metadata": {
        "id": "JFPrXG4CSd_8"
      }
    },
    {
      "cell_type": "code",
      "source": [
        "# These are standard python modules\n",
        "import json, time, urllib.parse\n",
        "\n",
        "# The 'requests' and 'python' module is not a standard Python module.\n",
        "# You will need to install this with pip/pip3 if you do not already have it\n",
        "import requests\n",
        "import pandas as pd"
      ],
      "metadata": {
        "id": "r66w118EIL9A"
      },
      "execution_count": 4,
      "outputs": []
    },
    {
      "cell_type": "markdown",
      "source": [
        "### 2.1 Definitions for Wikimedia API calls\n",
        "The below code was developed by Dr. David W. McDonald for use in DATA 512, a course in the UW MS Data Science degree program. This code is provided under the Creative Commons CC-BY license. Revision 1.2 - September 16, 2024.\n",
        "\n",
        "\n",
        "The example relies on some constants that help make the code a bit more readable.\n"
      ],
      "metadata": {
        "id": "GfAsSkRcSiPi"
      }
    },
    {
      "cell_type": "code",
      "source": [
        "#########\n",
        "#\n",
        "#    CONSTANTS\n",
        "#\n",
        "\n",
        "# The basic English Wikipedia API endpoint\n",
        "API_ENWIKIPEDIA_ENDPOINT = \"https://en.wikipedia.org/w/api.php\"\n",
        "API_HEADER_AGENT = 'User-Agent'\n",
        "\n",
        "# We'll assume that there needs to be some throttling for these requests - we should always be nice to a free data resource\n",
        "API_LATENCY_ASSUMED = 0.002       # Assuming roughly 2ms latency on the API and network\n",
        "API_THROTTLE_WAIT = (1.0/100.0)-API_LATENCY_ASSUMED\n",
        "\n",
        "# When making automated requests we should include something that is unique to the person making the request\n",
        "# This should include an email - your UW email would be good to put in there\n",
        "REQUEST_HEADERS = {\n",
        "    'User-Agent': '<raaguln@uw.edu>, University of Washington, MSDS DATA 512 - AUTUMN 2024'\n",
        "}\n",
        "\n",
        "# This is just a list of English Wikipedia article titles that we can use for example requests\n",
        "ARTICLE_TITLES = [ 'Bison', 'Northern flicker', 'Red squirrel', 'Chinook salmon', 'Horseshoe bat' ]\n",
        "\n",
        "# This is a string of additional page properties that can be returned see the Info documentation for\n",
        "# what can be included. If you don't want any this can simply be the empty string\n",
        "PAGEINFO_EXTENDED_PROPERTIES = \"talkid|url|watched|watchers\"\n",
        "#PAGEINFO_EXTENDED_PROPERTIES = \"\"\n",
        "\n",
        "# This template lists the basic parameters for making this\n",
        "PAGEINFO_PARAMS_TEMPLATE = {\n",
        "    \"action\": \"query\",\n",
        "    \"format\": \"json\",\n",
        "    \"titles\": \"\",           # to simplify this should be a single page title at a time\n",
        "    \"prop\": \"info\",\n",
        "    \"inprop\": PAGEINFO_EXTENDED_PROPERTIES\n",
        "}"
      ],
      "metadata": {
        "id": "ow6bXJ3jSil5"
      },
      "execution_count": 5,
      "outputs": []
    },
    {
      "cell_type": "markdown",
      "source": [
        "The API request will be made using one procedure. The idea is to make this reusable. The procedure is parameterized, but relies on the constants above for the important parameters. The underlying assumption is that this will be used to request data for a set of article pages. Therefore the parameter most likely to change is the article_title."
      ],
      "metadata": {
        "id": "bnUtoLVPS5oI"
      }
    },
    {
      "cell_type": "code",
      "source": [
        "#########\n",
        "#\n",
        "#    PROCEDURES/FUNCTIONS\n",
        "#\n",
        "\n",
        "def request_pageinfo_per_article(article_title = None,\n",
        "                                 endpoint_url = API_ENWIKIPEDIA_ENDPOINT,\n",
        "                                 request_template = PAGEINFO_PARAMS_TEMPLATE,\n",
        "                                 headers = REQUEST_HEADERS):\n",
        "\n",
        "    # article title can be as a parameter to the call or in the request_template\n",
        "    if article_title:\n",
        "        request_template['titles'] = article_title\n",
        "\n",
        "    if not request_template['titles']:\n",
        "        raise Exception(\"Must supply an article title to make a pageinfo request.\")\n",
        "\n",
        "    if API_HEADER_AGENT not in headers:\n",
        "        raise Exception(f\"The header data should include a '{API_HEADER_AGENT}' field that contains your UW email address.\")\n",
        "\n",
        "    if 'uwnetid@uw' in headers[API_HEADER_AGENT]:\n",
        "        raise Exception(f\"Use your UW email address in the '{API_HEADER_AGENT}' field.\")\n",
        "\n",
        "    # make the request\n",
        "    try:\n",
        "        # we'll wait first, to make sure we don't exceed the limit in the situation where an exception\n",
        "        # occurs during the request processing - throttling is always a good practice with a free\n",
        "        # data source like Wikipedia - or any other community sources\n",
        "        if API_THROTTLE_WAIT > 0.0:\n",
        "            time.sleep(API_THROTTLE_WAIT)\n",
        "        response = requests.get(endpoint_url, headers=headers, params=request_template)\n",
        "        json_response = response.json()\n",
        "    except Exception as e:\n",
        "        print(e)\n",
        "        json_response = None\n",
        "    return json_response"
      ],
      "metadata": {
        "id": "LdjBhEN0Sin-"
      },
      "execution_count": 6,
      "outputs": []
    },
    {
      "cell_type": "markdown",
      "source": [
        "### 2.2 Definitions for ORES article quality API calls\n",
        "The below code was developed by Dr. David W. McDonald for use in DATA 512, a course in the UW MS Data Science degree program. This code is provided under the Creative Commons CC-BY license. Revision 1.2 - September 16, 2024.\n",
        "\n",
        "\n",
        "The example relies on some constants that help make the code a bit more readable."
      ],
      "metadata": {
        "id": "9eEBP8QBT98h"
      }
    },
    {
      "cell_type": "code",
      "source": [
        "#########\n",
        "#\n",
        "#    CONSTANTS\n",
        "#\n",
        "\n",
        "#    The current LiftWing ORES API endpoint and prediction model\n",
        "#\n",
        "API_ORES_LIFTWING_ENDPOINT = \"https://api.wikimedia.org/service/lw/inference/v1/models/{model_name}:predict\"\n",
        "API_ORES_EN_QUALITY_MODEL = \"enwiki-articlequality\"\n",
        "\n",
        "#\n",
        "#    The throttling rate is a function of the Access token that you are granted when you request the token. The constants\n",
        "#    come from dissecting the token and getting the rate limits from the granted token. An example of that is below.\n",
        "#\n",
        "API_LATENCY_ASSUMED = 0.002       # Assuming roughly 2ms latency on the API and network\n",
        "API_THROTTLE_WAIT = ((60.0*60.0)/5000.0)-API_LATENCY_ASSUMED  # The key authorizes 5000 requests per hour\n",
        "\n",
        "#    When making automated requests we should include something that is unique to the person making the request\n",
        "#    This should include an email - your UW email would be good to put in there\n",
        "#\n",
        "#    Because all LiftWing API requests require some form of authentication, you need to provide your access token\n",
        "#    as part of the header too\n",
        "#\n",
        "REQUEST_HEADER_TEMPLATE = {\n",
        "    'User-Agent': \"<raaguln@uw.edu>, University of Washington, MSDS DATA 512 - AUTUMN 2024\",\n",
        "    'Content-Type': 'application/json',\n",
        "    'Authorization': \"Bearer {access_token}\"\n",
        "}\n",
        "#\n",
        "#    This is a template for the parameters that we need to supply in the headers of an API request\n",
        "#\n",
        "REQUEST_HEADER_PARAMS_TEMPLATE = {\n",
        "    'email_address' : \"raaguln@uw.edu\",         # your email address should go here\n",
        "    'access_token'  : ORES_ACCESS_TOKEN         # the access token you create will need to go here\n",
        "}\n",
        "\n",
        "#\n",
        "#    A dictionary of English Wikipedia article titles (keys) and sample revision IDs that can be used for this ORES scoring example\n",
        "#\n",
        "ARTICLE_REVISIONS = { 'Bison':1085687913 , 'Northern flicker':1086582504 , 'Red squirrel':1083787665 , 'Chinook salmon':1085406228 , 'Horseshoe bat':1060601936 }\n",
        "\n",
        "#\n",
        "#    This is a template of the data required as a payload when making a scoring request of the ORES model\n",
        "#\n",
        "ORES_REQUEST_DATA_TEMPLATE = {\n",
        "    \"lang\":        \"en\",     # required that its english - we're scoring English Wikipedia revisions\n",
        "    \"rev_id\":      \"\",       # this request requires a revision id\n",
        "    \"features\":    True\n",
        "}\n",
        "\n",
        "#\n",
        "#    These are used later - defined here so they, at least, have empty values\n",
        "#\n",
        "USERNAME = ORES_USERNAME\n",
        "ACCESS_TOKEN = ORES_ACCESS_TOKEN"
      ],
      "metadata": {
        "id": "5A0zh6WTSiqN"
      },
      "execution_count": 7,
      "outputs": []
    },
    {
      "cell_type": "markdown",
      "source": [
        "The API request will be made using one procedure. The idea is to make this reusable. The procedure is parameterized, but relies on the constants above for the important parameters. The underlying assumption is that this will be used to request data for one article at a time. Therefore the parameter most likely to change is the article_revid."
      ],
      "metadata": {
        "id": "c9Xy3PcAUFaX"
      }
    },
    {
      "cell_type": "code",
      "source": [
        "#########\n",
        "#\n",
        "#    PROCEDURES/FUNCTIONS\n",
        "#\n",
        "\n",
        "def request_ores_score_per_article(article_revid = None, email_address=None, access_token=None,\n",
        "                                   endpoint_url = API_ORES_LIFTWING_ENDPOINT,\n",
        "                                   model_name = API_ORES_EN_QUALITY_MODEL,\n",
        "                                   request_data = ORES_REQUEST_DATA_TEMPLATE,\n",
        "                                   header_format = REQUEST_HEADER_TEMPLATE,\n",
        "                                   header_params = REQUEST_HEADER_PARAMS_TEMPLATE):\n",
        "\n",
        "    #    Make sure we have an article revision id, email and token\n",
        "    #    This approach prioritizes the parameters passed in when making the call\n",
        "    if article_revid:\n",
        "        request_data['rev_id'] = article_revid\n",
        "    if email_address:\n",
        "        header_params['email_address'] = email_address\n",
        "    if access_token:\n",
        "        header_params['access_token'] = access_token\n",
        "\n",
        "    #   Making a request requires a revision id - an email address - and the access token\n",
        "    if not request_data['rev_id']:\n",
        "        raise Exception(\"Must provide an article revision id (rev_id) to score articles\")\n",
        "    if not header_params['email_address']:\n",
        "        raise Exception(\"Must provide an 'email_address' value\")\n",
        "    if not header_params['access_token']:\n",
        "        raise Exception(\"Must provide an 'access_token' value\")\n",
        "\n",
        "    # Create the request URL with the specified model parameter - default is a article quality score request\n",
        "    request_url = endpoint_url.format(model_name=model_name)\n",
        "\n",
        "    # Create a compliant request header from the template and the supplied parameters\n",
        "    headers = dict()\n",
        "    for key in header_format.keys():\n",
        "        headers[str(key)] = header_format[key].format(**header_params)\n",
        "\n",
        "    # make the request\n",
        "    try:\n",
        "        # we'll wait first, to make sure we don't exceed the limit in the situation where an exception\n",
        "        # occurs during the request processing - throttling is always a good practice with a free data\n",
        "        # source like ORES - or other community sources\n",
        "        if API_THROTTLE_WAIT > 0.0:\n",
        "            time.sleep(API_THROTTLE_WAIT)\n",
        "        #response = requests.get(request_url, headers=headers)\n",
        "        response = requests.post(request_url, headers=headers, data=json.dumps(request_data))\n",
        "        json_response = response.json()\n",
        "    except Exception as e:\n",
        "        print(e)\n",
        "        json_response = None\n",
        "    return json_response\n"
      ],
      "metadata": {
        "id": "yrs97sk4SisT"
      },
      "execution_count": 8,
      "outputs": []
    },
    {
      "cell_type": "code",
      "source": [],
      "metadata": {
        "id": "blQ7mq3WUL-m"
      },
      "execution_count": 8,
      "outputs": []
    },
    {
      "cell_type": "code",
      "source": [],
      "metadata": {
        "id": "86oCMhg4UMA0"
      },
      "execution_count": 8,
      "outputs": []
    },
    {
      "cell_type": "code",
      "source": [],
      "metadata": {
        "id": "l07at268UMDL"
      },
      "execution_count": 8,
      "outputs": []
    },
    {
      "cell_type": "code",
      "source": [],
      "metadata": {
        "id": "uK7E9FvsUMFL"
      },
      "execution_count": 8,
      "outputs": []
    },
    {
      "cell_type": "code",
      "source": [],
      "metadata": {
        "id": "iOQ6Oz1fUMHV"
      },
      "execution_count": 8,
      "outputs": []
    },
    {
      "cell_type": "code",
      "source": [],
      "metadata": {
        "id": "ULhx4QhQUMJl"
      },
      "execution_count": 8,
      "outputs": []
    },
    {
      "cell_type": "markdown",
      "source": [
        "## 3. Get Wikipedia information for all politicians\n",
        "In this call, we make the API call to Wikimedia API to get all the required information (revision id) for the wikipedia articles about the politicians.\n",
        "\n",
        "We load the CSV files that have the information on both politicians articles and countries population information, which we'll be using throughout the analysis."
      ],
      "metadata": {
        "id": "HDdumU2vSzJy"
      }
    },
    {
      "cell_type": "code",
      "source": [
        "# Use the pandas library to load\n",
        "politicians = pd.read_csv(\"politicians_by_country_AUG.2024.csv\")\n",
        "countries = pd.read_csv(\"population_by_country_AUG.2024.csv\")"
      ],
      "metadata": {
        "id": "DEQC7SrhIOnE"
      },
      "execution_count": 9,
      "outputs": []
    },
    {
      "cell_type": "code",
      "source": [
        "# Exploring what's in the dataset\n",
        "politicians.head()"
      ],
      "metadata": {
        "colab": {
          "base_uri": "https://localhost:8080/",
          "height": 0
        },
        "id": "gFJT9eK6TjRN",
        "outputId": "746bdfe2-9c8b-4045-c0b1-55eb43b73508"
      },
      "execution_count": 10,
      "outputs": [
        {
          "output_type": "execute_result",
          "data": {
            "text/plain": [
              "                   name                                                url  \\\n",
              "0        Majah Ha Adrif       https://en.wikipedia.org/wiki/Majah_Ha_Adrif   \n",
              "1     Haroon al-Afghani    https://en.wikipedia.org/wiki/Haroon_al-Afghani   \n",
              "2           Tayyab Agha          https://en.wikipedia.org/wiki/Tayyab_Agha   \n",
              "3  Khadija Zahra Ahmadi  https://en.wikipedia.org/wiki/Khadija_Zahra_Ah...   \n",
              "4        Aziza Ahmadyar       https://en.wikipedia.org/wiki/Aziza_Ahmadyar   \n",
              "\n",
              "       country  \n",
              "0  Afghanistan  \n",
              "1  Afghanistan  \n",
              "2  Afghanistan  \n",
              "3  Afghanistan  \n",
              "4  Afghanistan  "
            ],
            "text/html": [
              "\n",
              "  <div id=\"df-3a42c6c1-5ebb-4354-9174-b2997e7f0517\" class=\"colab-df-container\">\n",
              "    <div>\n",
              "<style scoped>\n",
              "    .dataframe tbody tr th:only-of-type {\n",
              "        vertical-align: middle;\n",
              "    }\n",
              "\n",
              "    .dataframe tbody tr th {\n",
              "        vertical-align: top;\n",
              "    }\n",
              "\n",
              "    .dataframe thead th {\n",
              "        text-align: right;\n",
              "    }\n",
              "</style>\n",
              "<table border=\"1\" class=\"dataframe\">\n",
              "  <thead>\n",
              "    <tr style=\"text-align: right;\">\n",
              "      <th></th>\n",
              "      <th>name</th>\n",
              "      <th>url</th>\n",
              "      <th>country</th>\n",
              "    </tr>\n",
              "  </thead>\n",
              "  <tbody>\n",
              "    <tr>\n",
              "      <th>0</th>\n",
              "      <td>Majah Ha Adrif</td>\n",
              "      <td>https://en.wikipedia.org/wiki/Majah_Ha_Adrif</td>\n",
              "      <td>Afghanistan</td>\n",
              "    </tr>\n",
              "    <tr>\n",
              "      <th>1</th>\n",
              "      <td>Haroon al-Afghani</td>\n",
              "      <td>https://en.wikipedia.org/wiki/Haroon_al-Afghani</td>\n",
              "      <td>Afghanistan</td>\n",
              "    </tr>\n",
              "    <tr>\n",
              "      <th>2</th>\n",
              "      <td>Tayyab Agha</td>\n",
              "      <td>https://en.wikipedia.org/wiki/Tayyab_Agha</td>\n",
              "      <td>Afghanistan</td>\n",
              "    </tr>\n",
              "    <tr>\n",
              "      <th>3</th>\n",
              "      <td>Khadija Zahra Ahmadi</td>\n",
              "      <td>https://en.wikipedia.org/wiki/Khadija_Zahra_Ah...</td>\n",
              "      <td>Afghanistan</td>\n",
              "    </tr>\n",
              "    <tr>\n",
              "      <th>4</th>\n",
              "      <td>Aziza Ahmadyar</td>\n",
              "      <td>https://en.wikipedia.org/wiki/Aziza_Ahmadyar</td>\n",
              "      <td>Afghanistan</td>\n",
              "    </tr>\n",
              "  </tbody>\n",
              "</table>\n",
              "</div>\n",
              "    <div class=\"colab-df-buttons\">\n",
              "\n",
              "  <div class=\"colab-df-container\">\n",
              "    <button class=\"colab-df-convert\" onclick=\"convertToInteractive('df-3a42c6c1-5ebb-4354-9174-b2997e7f0517')\"\n",
              "            title=\"Convert this dataframe to an interactive table.\"\n",
              "            style=\"display:none;\">\n",
              "\n",
              "  <svg xmlns=\"http://www.w3.org/2000/svg\" height=\"24px\" viewBox=\"0 -960 960 960\">\n",
              "    <path d=\"M120-120v-720h720v720H120Zm60-500h600v-160H180v160Zm220 220h160v-160H400v160Zm0 220h160v-160H400v160ZM180-400h160v-160H180v160Zm440 0h160v-160H620v160ZM180-180h160v-160H180v160Zm440 0h160v-160H620v160Z\"/>\n",
              "  </svg>\n",
              "    </button>\n",
              "\n",
              "  <style>\n",
              "    .colab-df-container {\n",
              "      display:flex;\n",
              "      gap: 12px;\n",
              "    }\n",
              "\n",
              "    .colab-df-convert {\n",
              "      background-color: #E8F0FE;\n",
              "      border: none;\n",
              "      border-radius: 50%;\n",
              "      cursor: pointer;\n",
              "      display: none;\n",
              "      fill: #1967D2;\n",
              "      height: 32px;\n",
              "      padding: 0 0 0 0;\n",
              "      width: 32px;\n",
              "    }\n",
              "\n",
              "    .colab-df-convert:hover {\n",
              "      background-color: #E2EBFA;\n",
              "      box-shadow: 0px 1px 2px rgba(60, 64, 67, 0.3), 0px 1px 3px 1px rgba(60, 64, 67, 0.15);\n",
              "      fill: #174EA6;\n",
              "    }\n",
              "\n",
              "    .colab-df-buttons div {\n",
              "      margin-bottom: 4px;\n",
              "    }\n",
              "\n",
              "    [theme=dark] .colab-df-convert {\n",
              "      background-color: #3B4455;\n",
              "      fill: #D2E3FC;\n",
              "    }\n",
              "\n",
              "    [theme=dark] .colab-df-convert:hover {\n",
              "      background-color: #434B5C;\n",
              "      box-shadow: 0px 1px 3px 1px rgba(0, 0, 0, 0.15);\n",
              "      filter: drop-shadow(0px 1px 2px rgba(0, 0, 0, 0.3));\n",
              "      fill: #FFFFFF;\n",
              "    }\n",
              "  </style>\n",
              "\n",
              "    <script>\n",
              "      const buttonEl =\n",
              "        document.querySelector('#df-3a42c6c1-5ebb-4354-9174-b2997e7f0517 button.colab-df-convert');\n",
              "      buttonEl.style.display =\n",
              "        google.colab.kernel.accessAllowed ? 'block' : 'none';\n",
              "\n",
              "      async function convertToInteractive(key) {\n",
              "        const element = document.querySelector('#df-3a42c6c1-5ebb-4354-9174-b2997e7f0517');\n",
              "        const dataTable =\n",
              "          await google.colab.kernel.invokeFunction('convertToInteractive',\n",
              "                                                    [key], {});\n",
              "        if (!dataTable) return;\n",
              "\n",
              "        const docLinkHtml = 'Like what you see? Visit the ' +\n",
              "          '<a target=\"_blank\" href=https://colab.research.google.com/notebooks/data_table.ipynb>data table notebook</a>'\n",
              "          + ' to learn more about interactive tables.';\n",
              "        element.innerHTML = '';\n",
              "        dataTable['output_type'] = 'display_data';\n",
              "        await google.colab.output.renderOutput(dataTable, element);\n",
              "        const docLink = document.createElement('div');\n",
              "        docLink.innerHTML = docLinkHtml;\n",
              "        element.appendChild(docLink);\n",
              "      }\n",
              "    </script>\n",
              "  </div>\n",
              "\n",
              "\n",
              "<div id=\"df-ebf2f7c3-1d21-4536-8a62-49fd3af38170\">\n",
              "  <button class=\"colab-df-quickchart\" onclick=\"quickchart('df-ebf2f7c3-1d21-4536-8a62-49fd3af38170')\"\n",
              "            title=\"Suggest charts\"\n",
              "            style=\"display:none;\">\n",
              "\n",
              "<svg xmlns=\"http://www.w3.org/2000/svg\" height=\"24px\"viewBox=\"0 0 24 24\"\n",
              "     width=\"24px\">\n",
              "    <g>\n",
              "        <path d=\"M19 3H5c-1.1 0-2 .9-2 2v14c0 1.1.9 2 2 2h14c1.1 0 2-.9 2-2V5c0-1.1-.9-2-2-2zM9 17H7v-7h2v7zm4 0h-2V7h2v10zm4 0h-2v-4h2v4z\"/>\n",
              "    </g>\n",
              "</svg>\n",
              "  </button>\n",
              "\n",
              "<style>\n",
              "  .colab-df-quickchart {\n",
              "      --bg-color: #E8F0FE;\n",
              "      --fill-color: #1967D2;\n",
              "      --hover-bg-color: #E2EBFA;\n",
              "      --hover-fill-color: #174EA6;\n",
              "      --disabled-fill-color: #AAA;\n",
              "      --disabled-bg-color: #DDD;\n",
              "  }\n",
              "\n",
              "  [theme=dark] .colab-df-quickchart {\n",
              "      --bg-color: #3B4455;\n",
              "      --fill-color: #D2E3FC;\n",
              "      --hover-bg-color: #434B5C;\n",
              "      --hover-fill-color: #FFFFFF;\n",
              "      --disabled-bg-color: #3B4455;\n",
              "      --disabled-fill-color: #666;\n",
              "  }\n",
              "\n",
              "  .colab-df-quickchart {\n",
              "    background-color: var(--bg-color);\n",
              "    border: none;\n",
              "    border-radius: 50%;\n",
              "    cursor: pointer;\n",
              "    display: none;\n",
              "    fill: var(--fill-color);\n",
              "    height: 32px;\n",
              "    padding: 0;\n",
              "    width: 32px;\n",
              "  }\n",
              "\n",
              "  .colab-df-quickchart:hover {\n",
              "    background-color: var(--hover-bg-color);\n",
              "    box-shadow: 0 1px 2px rgba(60, 64, 67, 0.3), 0 1px 3px 1px rgba(60, 64, 67, 0.15);\n",
              "    fill: var(--button-hover-fill-color);\n",
              "  }\n",
              "\n",
              "  .colab-df-quickchart-complete:disabled,\n",
              "  .colab-df-quickchart-complete:disabled:hover {\n",
              "    background-color: var(--disabled-bg-color);\n",
              "    fill: var(--disabled-fill-color);\n",
              "    box-shadow: none;\n",
              "  }\n",
              "\n",
              "  .colab-df-spinner {\n",
              "    border: 2px solid var(--fill-color);\n",
              "    border-color: transparent;\n",
              "    border-bottom-color: var(--fill-color);\n",
              "    animation:\n",
              "      spin 1s steps(1) infinite;\n",
              "  }\n",
              "\n",
              "  @keyframes spin {\n",
              "    0% {\n",
              "      border-color: transparent;\n",
              "      border-bottom-color: var(--fill-color);\n",
              "      border-left-color: var(--fill-color);\n",
              "    }\n",
              "    20% {\n",
              "      border-color: transparent;\n",
              "      border-left-color: var(--fill-color);\n",
              "      border-top-color: var(--fill-color);\n",
              "    }\n",
              "    30% {\n",
              "      border-color: transparent;\n",
              "      border-left-color: var(--fill-color);\n",
              "      border-top-color: var(--fill-color);\n",
              "      border-right-color: var(--fill-color);\n",
              "    }\n",
              "    40% {\n",
              "      border-color: transparent;\n",
              "      border-right-color: var(--fill-color);\n",
              "      border-top-color: var(--fill-color);\n",
              "    }\n",
              "    60% {\n",
              "      border-color: transparent;\n",
              "      border-right-color: var(--fill-color);\n",
              "    }\n",
              "    80% {\n",
              "      border-color: transparent;\n",
              "      border-right-color: var(--fill-color);\n",
              "      border-bottom-color: var(--fill-color);\n",
              "    }\n",
              "    90% {\n",
              "      border-color: transparent;\n",
              "      border-bottom-color: var(--fill-color);\n",
              "    }\n",
              "  }\n",
              "</style>\n",
              "\n",
              "  <script>\n",
              "    async function quickchart(key) {\n",
              "      const quickchartButtonEl =\n",
              "        document.querySelector('#' + key + ' button');\n",
              "      quickchartButtonEl.disabled = true;  // To prevent multiple clicks.\n",
              "      quickchartButtonEl.classList.add('colab-df-spinner');\n",
              "      try {\n",
              "        const charts = await google.colab.kernel.invokeFunction(\n",
              "            'suggestCharts', [key], {});\n",
              "      } catch (error) {\n",
              "        console.error('Error during call to suggestCharts:', error);\n",
              "      }\n",
              "      quickchartButtonEl.classList.remove('colab-df-spinner');\n",
              "      quickchartButtonEl.classList.add('colab-df-quickchart-complete');\n",
              "    }\n",
              "    (() => {\n",
              "      let quickchartButtonEl =\n",
              "        document.querySelector('#df-ebf2f7c3-1d21-4536-8a62-49fd3af38170 button');\n",
              "      quickchartButtonEl.style.display =\n",
              "        google.colab.kernel.accessAllowed ? 'block' : 'none';\n",
              "    })();\n",
              "  </script>\n",
              "</div>\n",
              "\n",
              "    </div>\n",
              "  </div>\n"
            ],
            "application/vnd.google.colaboratory.intrinsic+json": {
              "type": "dataframe",
              "variable_name": "politicians",
              "summary": "{\n  \"name\": \"politicians\",\n  \"rows\": 7155,\n  \"fields\": [\n    {\n      \"column\": \"name\",\n      \"properties\": {\n        \"dtype\": \"string\",\n        \"num_unique_values\": 7111,\n        \"samples\": [\n          \"Mandipalli Ramprasad Reddy\",\n          \"Yerzhan Ashikbayev\",\n          \"Alim Sherzamonov\"\n        ],\n        \"semantic_type\": \"\",\n        \"description\": \"\"\n      }\n    },\n    {\n      \"column\": \"url\",\n      \"properties\": {\n        \"dtype\": \"string\",\n        \"num_unique_values\": 7111,\n        \"samples\": [\n          \"https://en.wikipedia.org/wiki/Mandipalli_Ramprasad_Reddy\",\n          \"https://en.wikipedia.org/wiki/Yerzhan_Ashikbayev\",\n          \"https://en.wikipedia.org/wiki/Alim_Sherzamonov\"\n        ],\n        \"semantic_type\": \"\",\n        \"description\": \"\"\n      }\n    },\n    {\n      \"column\": \"country\",\n      \"properties\": {\n        \"dtype\": \"category\",\n        \"num_unique_values\": 169,\n        \"samples\": [\n          \"Somalia\",\n          \"Central African Republic\",\n          \"Poland\"\n        ],\n        \"semantic_type\": \"\",\n        \"description\": \"\"\n      }\n    }\n  ]\n}"
            }
          },
          "metadata": {},
          "execution_count": 10
        }
      ]
    },
    {
      "cell_type": "code",
      "source": [
        "# Finding out how many rows data has\n",
        "len(politicians)"
      ],
      "metadata": {
        "colab": {
          "base_uri": "https://localhost:8080/"
        },
        "id": "5CWwW1UobV1s",
        "outputId": "e3ffd456-b535-4906-8dc1-5d660323f662"
      },
      "execution_count": 11,
      "outputs": [
        {
          "output_type": "execute_result",
          "data": {
            "text/plain": [
              "7155"
            ]
          },
          "metadata": {},
          "execution_count": 11
        }
      ]
    },
    {
      "cell_type": "code",
      "source": [
        "# Finding out if there are duplicate names\n",
        "len(politicians['name'].unique())"
      ],
      "metadata": {
        "colab": {
          "base_uri": "https://localhost:8080/"
        },
        "id": "-pW9VYJswGdk",
        "outputId": "ed808bbd-3509-46ca-983d-2865b27205c6"
      },
      "execution_count": 12,
      "outputs": [
        {
          "output_type": "execute_result",
          "data": {
            "text/plain": [
              "7111"
            ]
          },
          "metadata": {},
          "execution_count": 12
        }
      ]
    },
    {
      "cell_type": "code",
      "source": [
        "# Finding out if there are duplicate combinations wrt name + country combination\n",
        "unique_politicians_group = politicians.groupby(['name', 'country']).size().reset_index(name='count')\n",
        "unique_politicians_group[unique_politicians_group['count'] > 1]"
      ],
      "metadata": {
        "colab": {
          "base_uri": "https://localhost:8080/",
          "height": 0
        },
        "id": "CdJ1pJWOu-it",
        "outputId": "b97deea3-cd7f-4304-a3d7-ceb3ef408439"
      },
      "execution_count": 13,
      "outputs": [
        {
          "output_type": "execute_result",
          "data": {
            "text/plain": [
              "Empty DataFrame\n",
              "Columns: [name, country, count]\n",
              "Index: []"
            ],
            "text/html": [
              "\n",
              "  <div id=\"df-777334d2-946f-4c08-8e4e-22f09e921e6d\" class=\"colab-df-container\">\n",
              "    <div>\n",
              "<style scoped>\n",
              "    .dataframe tbody tr th:only-of-type {\n",
              "        vertical-align: middle;\n",
              "    }\n",
              "\n",
              "    .dataframe tbody tr th {\n",
              "        vertical-align: top;\n",
              "    }\n",
              "\n",
              "    .dataframe thead th {\n",
              "        text-align: right;\n",
              "    }\n",
              "</style>\n",
              "<table border=\"1\" class=\"dataframe\">\n",
              "  <thead>\n",
              "    <tr style=\"text-align: right;\">\n",
              "      <th></th>\n",
              "      <th>name</th>\n",
              "      <th>country</th>\n",
              "      <th>count</th>\n",
              "    </tr>\n",
              "  </thead>\n",
              "  <tbody>\n",
              "  </tbody>\n",
              "</table>\n",
              "</div>\n",
              "    <div class=\"colab-df-buttons\">\n",
              "\n",
              "  <div class=\"colab-df-container\">\n",
              "    <button class=\"colab-df-convert\" onclick=\"convertToInteractive('df-777334d2-946f-4c08-8e4e-22f09e921e6d')\"\n",
              "            title=\"Convert this dataframe to an interactive table.\"\n",
              "            style=\"display:none;\">\n",
              "\n",
              "  <svg xmlns=\"http://www.w3.org/2000/svg\" height=\"24px\" viewBox=\"0 -960 960 960\">\n",
              "    <path d=\"M120-120v-720h720v720H120Zm60-500h600v-160H180v160Zm220 220h160v-160H400v160Zm0 220h160v-160H400v160ZM180-400h160v-160H180v160Zm440 0h160v-160H620v160ZM180-180h160v-160H180v160Zm440 0h160v-160H620v160Z\"/>\n",
              "  </svg>\n",
              "    </button>\n",
              "\n",
              "  <style>\n",
              "    .colab-df-container {\n",
              "      display:flex;\n",
              "      gap: 12px;\n",
              "    }\n",
              "\n",
              "    .colab-df-convert {\n",
              "      background-color: #E8F0FE;\n",
              "      border: none;\n",
              "      border-radius: 50%;\n",
              "      cursor: pointer;\n",
              "      display: none;\n",
              "      fill: #1967D2;\n",
              "      height: 32px;\n",
              "      padding: 0 0 0 0;\n",
              "      width: 32px;\n",
              "    }\n",
              "\n",
              "    .colab-df-convert:hover {\n",
              "      background-color: #E2EBFA;\n",
              "      box-shadow: 0px 1px 2px rgba(60, 64, 67, 0.3), 0px 1px 3px 1px rgba(60, 64, 67, 0.15);\n",
              "      fill: #174EA6;\n",
              "    }\n",
              "\n",
              "    .colab-df-buttons div {\n",
              "      margin-bottom: 4px;\n",
              "    }\n",
              "\n",
              "    [theme=dark] .colab-df-convert {\n",
              "      background-color: #3B4455;\n",
              "      fill: #D2E3FC;\n",
              "    }\n",
              "\n",
              "    [theme=dark] .colab-df-convert:hover {\n",
              "      background-color: #434B5C;\n",
              "      box-shadow: 0px 1px 3px 1px rgba(0, 0, 0, 0.15);\n",
              "      filter: drop-shadow(0px 1px 2px rgba(0, 0, 0, 0.3));\n",
              "      fill: #FFFFFF;\n",
              "    }\n",
              "  </style>\n",
              "\n",
              "    <script>\n",
              "      const buttonEl =\n",
              "        document.querySelector('#df-777334d2-946f-4c08-8e4e-22f09e921e6d button.colab-df-convert');\n",
              "      buttonEl.style.display =\n",
              "        google.colab.kernel.accessAllowed ? 'block' : 'none';\n",
              "\n",
              "      async function convertToInteractive(key) {\n",
              "        const element = document.querySelector('#df-777334d2-946f-4c08-8e4e-22f09e921e6d');\n",
              "        const dataTable =\n",
              "          await google.colab.kernel.invokeFunction('convertToInteractive',\n",
              "                                                    [key], {});\n",
              "        if (!dataTable) return;\n",
              "\n",
              "        const docLinkHtml = 'Like what you see? Visit the ' +\n",
              "          '<a target=\"_blank\" href=https://colab.research.google.com/notebooks/data_table.ipynb>data table notebook</a>'\n",
              "          + ' to learn more about interactive tables.';\n",
              "        element.innerHTML = '';\n",
              "        dataTable['output_type'] = 'display_data';\n",
              "        await google.colab.output.renderOutput(dataTable, element);\n",
              "        const docLink = document.createElement('div');\n",
              "        docLink.innerHTML = docLinkHtml;\n",
              "        element.appendChild(docLink);\n",
              "      }\n",
              "    </script>\n",
              "  </div>\n",
              "\n",
              "\n",
              "    </div>\n",
              "  </div>\n"
            ],
            "application/vnd.google.colaboratory.intrinsic+json": {
              "type": "dataframe",
              "repr_error": "Out of range float values are not JSON compliant: nan"
            }
          },
          "metadata": {},
          "execution_count": 13
        }
      ]
    },
    {
      "cell_type": "markdown",
      "source": [
        "It seems like there are 7155 - 7111 = 44 duplicate values for politicians, but they belong to different countries. Care must be taken to not discard them as it is as they are associated with different countries.\n",
        "\n",
        "To highlight - a politician is associated with two different countries, but there is only one Wiki article with the name of the politician. It is impossible to have two wiki articles with same title name as it would break the URL of the webpage. Looking into Wikipedia naming strategies, it is aparent that they include additional details in the article title for similar names (usually extra information in round brackets). Refer the sample articles below -\n",
        "\n",
        "1. Jack Sparrow - https://en.wikipedia.org/wiki/Jack_Sparrow\n",
        "2. Jack Sparrow (song) - https://en.wikipedia.org/wiki/Jack_Sparrow_(song)"
      ],
      "metadata": {
        "id": "PHGi-TMRwPLF"
      }
    },
    {
      "cell_type": "code",
      "source": [
        "# Exploring what's in the dataset `countries`\n",
        "countries.head()"
      ],
      "metadata": {
        "colab": {
          "base_uri": "https://localhost:8080/",
          "height": 0
        },
        "id": "rUeC6sJcTltO",
        "outputId": "8017f586-474e-41cd-ec17-7ef3d8f5d75d"
      },
      "execution_count": 14,
      "outputs": [
        {
          "output_type": "execute_result",
          "data": {
            "text/plain": [
              "         Geography  Population\n",
              "0            WORLD      8009.0\n",
              "1           AFRICA      1453.0\n",
              "2  NORTHERN AFRICA       256.0\n",
              "3          Algeria        46.8\n",
              "4            Egypt       105.2"
            ],
            "text/html": [
              "\n",
              "  <div id=\"df-05203fae-8586-4106-abaf-67db79fe885b\" class=\"colab-df-container\">\n",
              "    <div>\n",
              "<style scoped>\n",
              "    .dataframe tbody tr th:only-of-type {\n",
              "        vertical-align: middle;\n",
              "    }\n",
              "\n",
              "    .dataframe tbody tr th {\n",
              "        vertical-align: top;\n",
              "    }\n",
              "\n",
              "    .dataframe thead th {\n",
              "        text-align: right;\n",
              "    }\n",
              "</style>\n",
              "<table border=\"1\" class=\"dataframe\">\n",
              "  <thead>\n",
              "    <tr style=\"text-align: right;\">\n",
              "      <th></th>\n",
              "      <th>Geography</th>\n",
              "      <th>Population</th>\n",
              "    </tr>\n",
              "  </thead>\n",
              "  <tbody>\n",
              "    <tr>\n",
              "      <th>0</th>\n",
              "      <td>WORLD</td>\n",
              "      <td>8009.0</td>\n",
              "    </tr>\n",
              "    <tr>\n",
              "      <th>1</th>\n",
              "      <td>AFRICA</td>\n",
              "      <td>1453.0</td>\n",
              "    </tr>\n",
              "    <tr>\n",
              "      <th>2</th>\n",
              "      <td>NORTHERN AFRICA</td>\n",
              "      <td>256.0</td>\n",
              "    </tr>\n",
              "    <tr>\n",
              "      <th>3</th>\n",
              "      <td>Algeria</td>\n",
              "      <td>46.8</td>\n",
              "    </tr>\n",
              "    <tr>\n",
              "      <th>4</th>\n",
              "      <td>Egypt</td>\n",
              "      <td>105.2</td>\n",
              "    </tr>\n",
              "  </tbody>\n",
              "</table>\n",
              "</div>\n",
              "    <div class=\"colab-df-buttons\">\n",
              "\n",
              "  <div class=\"colab-df-container\">\n",
              "    <button class=\"colab-df-convert\" onclick=\"convertToInteractive('df-05203fae-8586-4106-abaf-67db79fe885b')\"\n",
              "            title=\"Convert this dataframe to an interactive table.\"\n",
              "            style=\"display:none;\">\n",
              "\n",
              "  <svg xmlns=\"http://www.w3.org/2000/svg\" height=\"24px\" viewBox=\"0 -960 960 960\">\n",
              "    <path d=\"M120-120v-720h720v720H120Zm60-500h600v-160H180v160Zm220 220h160v-160H400v160Zm0 220h160v-160H400v160ZM180-400h160v-160H180v160Zm440 0h160v-160H620v160ZM180-180h160v-160H180v160Zm440 0h160v-160H620v160Z\"/>\n",
              "  </svg>\n",
              "    </button>\n",
              "\n",
              "  <style>\n",
              "    .colab-df-container {\n",
              "      display:flex;\n",
              "      gap: 12px;\n",
              "    }\n",
              "\n",
              "    .colab-df-convert {\n",
              "      background-color: #E8F0FE;\n",
              "      border: none;\n",
              "      border-radius: 50%;\n",
              "      cursor: pointer;\n",
              "      display: none;\n",
              "      fill: #1967D2;\n",
              "      height: 32px;\n",
              "      padding: 0 0 0 0;\n",
              "      width: 32px;\n",
              "    }\n",
              "\n",
              "    .colab-df-convert:hover {\n",
              "      background-color: #E2EBFA;\n",
              "      box-shadow: 0px 1px 2px rgba(60, 64, 67, 0.3), 0px 1px 3px 1px rgba(60, 64, 67, 0.15);\n",
              "      fill: #174EA6;\n",
              "    }\n",
              "\n",
              "    .colab-df-buttons div {\n",
              "      margin-bottom: 4px;\n",
              "    }\n",
              "\n",
              "    [theme=dark] .colab-df-convert {\n",
              "      background-color: #3B4455;\n",
              "      fill: #D2E3FC;\n",
              "    }\n",
              "\n",
              "    [theme=dark] .colab-df-convert:hover {\n",
              "      background-color: #434B5C;\n",
              "      box-shadow: 0px 1px 3px 1px rgba(0, 0, 0, 0.15);\n",
              "      filter: drop-shadow(0px 1px 2px rgba(0, 0, 0, 0.3));\n",
              "      fill: #FFFFFF;\n",
              "    }\n",
              "  </style>\n",
              "\n",
              "    <script>\n",
              "      const buttonEl =\n",
              "        document.querySelector('#df-05203fae-8586-4106-abaf-67db79fe885b button.colab-df-convert');\n",
              "      buttonEl.style.display =\n",
              "        google.colab.kernel.accessAllowed ? 'block' : 'none';\n",
              "\n",
              "      async function convertToInteractive(key) {\n",
              "        const element = document.querySelector('#df-05203fae-8586-4106-abaf-67db79fe885b');\n",
              "        const dataTable =\n",
              "          await google.colab.kernel.invokeFunction('convertToInteractive',\n",
              "                                                    [key], {});\n",
              "        if (!dataTable) return;\n",
              "\n",
              "        const docLinkHtml = 'Like what you see? Visit the ' +\n",
              "          '<a target=\"_blank\" href=https://colab.research.google.com/notebooks/data_table.ipynb>data table notebook</a>'\n",
              "          + ' to learn more about interactive tables.';\n",
              "        element.innerHTML = '';\n",
              "        dataTable['output_type'] = 'display_data';\n",
              "        await google.colab.output.renderOutput(dataTable, element);\n",
              "        const docLink = document.createElement('div');\n",
              "        docLink.innerHTML = docLinkHtml;\n",
              "        element.appendChild(docLink);\n",
              "      }\n",
              "    </script>\n",
              "  </div>\n",
              "\n",
              "\n",
              "<div id=\"df-483188ad-4b1b-4105-b828-28e80a22b31e\">\n",
              "  <button class=\"colab-df-quickchart\" onclick=\"quickchart('df-483188ad-4b1b-4105-b828-28e80a22b31e')\"\n",
              "            title=\"Suggest charts\"\n",
              "            style=\"display:none;\">\n",
              "\n",
              "<svg xmlns=\"http://www.w3.org/2000/svg\" height=\"24px\"viewBox=\"0 0 24 24\"\n",
              "     width=\"24px\">\n",
              "    <g>\n",
              "        <path d=\"M19 3H5c-1.1 0-2 .9-2 2v14c0 1.1.9 2 2 2h14c1.1 0 2-.9 2-2V5c0-1.1-.9-2-2-2zM9 17H7v-7h2v7zm4 0h-2V7h2v10zm4 0h-2v-4h2v4z\"/>\n",
              "    </g>\n",
              "</svg>\n",
              "  </button>\n",
              "\n",
              "<style>\n",
              "  .colab-df-quickchart {\n",
              "      --bg-color: #E8F0FE;\n",
              "      --fill-color: #1967D2;\n",
              "      --hover-bg-color: #E2EBFA;\n",
              "      --hover-fill-color: #174EA6;\n",
              "      --disabled-fill-color: #AAA;\n",
              "      --disabled-bg-color: #DDD;\n",
              "  }\n",
              "\n",
              "  [theme=dark] .colab-df-quickchart {\n",
              "      --bg-color: #3B4455;\n",
              "      --fill-color: #D2E3FC;\n",
              "      --hover-bg-color: #434B5C;\n",
              "      --hover-fill-color: #FFFFFF;\n",
              "      --disabled-bg-color: #3B4455;\n",
              "      --disabled-fill-color: #666;\n",
              "  }\n",
              "\n",
              "  .colab-df-quickchart {\n",
              "    background-color: var(--bg-color);\n",
              "    border: none;\n",
              "    border-radius: 50%;\n",
              "    cursor: pointer;\n",
              "    display: none;\n",
              "    fill: var(--fill-color);\n",
              "    height: 32px;\n",
              "    padding: 0;\n",
              "    width: 32px;\n",
              "  }\n",
              "\n",
              "  .colab-df-quickchart:hover {\n",
              "    background-color: var(--hover-bg-color);\n",
              "    box-shadow: 0 1px 2px rgba(60, 64, 67, 0.3), 0 1px 3px 1px rgba(60, 64, 67, 0.15);\n",
              "    fill: var(--button-hover-fill-color);\n",
              "  }\n",
              "\n",
              "  .colab-df-quickchart-complete:disabled,\n",
              "  .colab-df-quickchart-complete:disabled:hover {\n",
              "    background-color: var(--disabled-bg-color);\n",
              "    fill: var(--disabled-fill-color);\n",
              "    box-shadow: none;\n",
              "  }\n",
              "\n",
              "  .colab-df-spinner {\n",
              "    border: 2px solid var(--fill-color);\n",
              "    border-color: transparent;\n",
              "    border-bottom-color: var(--fill-color);\n",
              "    animation:\n",
              "      spin 1s steps(1) infinite;\n",
              "  }\n",
              "\n",
              "  @keyframes spin {\n",
              "    0% {\n",
              "      border-color: transparent;\n",
              "      border-bottom-color: var(--fill-color);\n",
              "      border-left-color: var(--fill-color);\n",
              "    }\n",
              "    20% {\n",
              "      border-color: transparent;\n",
              "      border-left-color: var(--fill-color);\n",
              "      border-top-color: var(--fill-color);\n",
              "    }\n",
              "    30% {\n",
              "      border-color: transparent;\n",
              "      border-left-color: var(--fill-color);\n",
              "      border-top-color: var(--fill-color);\n",
              "      border-right-color: var(--fill-color);\n",
              "    }\n",
              "    40% {\n",
              "      border-color: transparent;\n",
              "      border-right-color: var(--fill-color);\n",
              "      border-top-color: var(--fill-color);\n",
              "    }\n",
              "    60% {\n",
              "      border-color: transparent;\n",
              "      border-right-color: var(--fill-color);\n",
              "    }\n",
              "    80% {\n",
              "      border-color: transparent;\n",
              "      border-right-color: var(--fill-color);\n",
              "      border-bottom-color: var(--fill-color);\n",
              "    }\n",
              "    90% {\n",
              "      border-color: transparent;\n",
              "      border-bottom-color: var(--fill-color);\n",
              "    }\n",
              "  }\n",
              "</style>\n",
              "\n",
              "  <script>\n",
              "    async function quickchart(key) {\n",
              "      const quickchartButtonEl =\n",
              "        document.querySelector('#' + key + ' button');\n",
              "      quickchartButtonEl.disabled = true;  // To prevent multiple clicks.\n",
              "      quickchartButtonEl.classList.add('colab-df-spinner');\n",
              "      try {\n",
              "        const charts = await google.colab.kernel.invokeFunction(\n",
              "            'suggestCharts', [key], {});\n",
              "      } catch (error) {\n",
              "        console.error('Error during call to suggestCharts:', error);\n",
              "      }\n",
              "      quickchartButtonEl.classList.remove('colab-df-spinner');\n",
              "      quickchartButtonEl.classList.add('colab-df-quickchart-complete');\n",
              "    }\n",
              "    (() => {\n",
              "      let quickchartButtonEl =\n",
              "        document.querySelector('#df-483188ad-4b1b-4105-b828-28e80a22b31e button');\n",
              "      quickchartButtonEl.style.display =\n",
              "        google.colab.kernel.accessAllowed ? 'block' : 'none';\n",
              "    })();\n",
              "  </script>\n",
              "</div>\n",
              "\n",
              "    </div>\n",
              "  </div>\n"
            ],
            "application/vnd.google.colaboratory.intrinsic+json": {
              "type": "dataframe",
              "variable_name": "countries",
              "summary": "{\n  \"name\": \"countries\",\n  \"rows\": 233,\n  \"fields\": [\n    {\n      \"column\": \"Geography\",\n      \"properties\": {\n        \"dtype\": \"string\",\n        \"num_unique_values\": 233,\n        \"samples\": [\n          \"Dominican Republic\",\n          \"Australia\",\n          \"Tuvalu\"\n        ],\n        \"semantic_type\": \"\",\n        \"description\": \"\"\n      }\n    },\n    {\n      \"column\": \"Population\",\n      \"properties\": {\n        \"dtype\": \"number\",\n        \"std\": 651.5137121913108,\n        \"min\": 0.0,\n        \"max\": 8009.0,\n        \"num_unique_values\": 171,\n        \"samples\": [\n          5.0,\n          70.0,\n          2.7\n        ],\n        \"semantic_type\": \"\",\n        \"description\": \"\"\n      }\n    }\n  ]\n}"
            }
          },
          "metadata": {},
          "execution_count": 14
        }
      ]
    },
    {
      "cell_type": "code",
      "source": [
        "# Exploring what's in the dataset `countries`\n",
        "len(countries)"
      ],
      "metadata": {
        "colab": {
          "base_uri": "https://localhost:8080/"
        },
        "id": "1Xq5GtGXWxOc",
        "outputId": "5298350b-5f40-47bf-9991-ba8d705e8538"
      },
      "execution_count": 15,
      "outputs": [
        {
          "output_type": "execute_result",
          "data": {
            "text/plain": [
              "233"
            ]
          },
          "metadata": {},
          "execution_count": 15
        }
      ]
    },
    {
      "cell_type": "markdown",
      "source": [
        "Here, we loop through the politician's name in batches of 50 and make the API call to Wikimedia to get the revision id information. The API allows us to get the information for 50 wiki articles in one API call, and we will make use of that to reduce the number of API calls made. Note - the final dictionary will only have 7111 values - the number of unique wikipedia titles.\n",
        "\n",
        "\n",
        "API Reference - https://www.mediawiki.org/wiki/API:Get_the_contents_of_a_page"
      ],
      "metadata": {
        "id": "v08df12nQDKL"
      }
    },
    {
      "cell_type": "code",
      "source": [
        "# Create dictionary mapping for storing all the information\n",
        "wiki_information = {}\n",
        "# Number of article titles that the API will accept in one go. Refer the documentation.\n",
        "batch_size = 50\n",
        "for i in range(0, len(politicians), batch_size):\n",
        "    # Put all titles in a `|` separated string\n",
        "    names = '|'.join(politicians['name'][i:i+batch_size])\n",
        "    # Make the API call\n",
        "    info = request_pageinfo_per_article(names)\n",
        "    if 'query' in info and 'pages' in info['query']:\n",
        "        response = info['query']['pages']\n",
        "        # For each title, add the response to the dictionary\n",
        "        for page_id in response:\n",
        "            name = response[page_id]['title']\n",
        "            wiki_information[name] = response[page_id]"
      ],
      "metadata": {
        "id": "-oV08miiaxgH"
      },
      "execution_count": 16,
      "outputs": []
    },
    {
      "cell_type": "markdown",
      "source": [
        "We will inspect the values that we got from the API to check if there's any issues from the API response we got. It seems like there are 8 articles with no revision data."
      ],
      "metadata": {
        "id": "pFNEo8WWQbym"
      }
    },
    {
      "cell_type": "code",
      "source": [
        "revision_ids = []\n",
        "titles_with_no_revisions = []\n",
        "for name in wiki_information:\n",
        "    if 'lastrevid' in wiki_information[name]:\n",
        "        revision_ids.append(wiki_information[name]['lastrevid'])\n",
        "    else:\n",
        "        titles_with_no_revisions.append(name)\n",
        "print('Number of entries with no revision data -', len(titles_with_no_revisions))\n",
        "print('List of titles with no revision data -', titles_with_no_revisions)"
      ],
      "metadata": {
        "id": "lu2ET_K9eaWR",
        "colab": {
          "base_uri": "https://localhost:8080/"
        },
        "outputId": "58ec24ad-ade7-4ba4-fdd2-d6a76f16f0d5"
      },
      "execution_count": 17,
      "outputs": [
        {
          "output_type": "stream",
          "name": "stdout",
          "text": [
            "Number of entries with no revision data - 8\n",
            "List of titles with no revision data - ['Barbara Eibinger-Miedl', 'Mehrali Gasimov', 'Kyaw Myint', 'André Ngongang Ouandji', 'Tomás Pimentel', 'Richard Sumah', \"Segun ''Aeroland'' Adewale\", 'Bashir Bililiqo']\n"
          ]
        }
      ]
    },
    {
      "cell_type": "code",
      "source": [
        "# Full information for the data with no revisions\n",
        "for name in titles_with_no_revisions:\n",
        "    print(wiki_information[name])"
      ],
      "metadata": {
        "id": "5lhjQeUCe9Tn",
        "colab": {
          "base_uri": "https://localhost:8080/"
        },
        "outputId": "9b7acdfe-113b-43b7-9d30-57592e3c41ce"
      },
      "execution_count": 18,
      "outputs": [
        {
          "output_type": "stream",
          "name": "stdout",
          "text": [
            "{'ns': 0, 'title': 'Barbara Eibinger-Miedl', 'missing': '', 'contentmodel': 'wikitext', 'pagelanguage': 'en', 'pagelanguagehtmlcode': 'en', 'pagelanguagedir': 'ltr', 'fullurl': 'https://en.wikipedia.org/wiki/Barbara_Eibinger-Miedl', 'editurl': 'https://en.wikipedia.org/w/index.php?title=Barbara_Eibinger-Miedl&action=edit', 'canonicalurl': 'https://en.wikipedia.org/wiki/Barbara_Eibinger-Miedl'}\n",
            "{'ns': 0, 'title': 'Mehrali Gasimov', 'missing': '', 'contentmodel': 'wikitext', 'pagelanguage': 'en', 'pagelanguagehtmlcode': 'en', 'pagelanguagedir': 'ltr', 'fullurl': 'https://en.wikipedia.org/wiki/Mehrali_Gasimov', 'editurl': 'https://en.wikipedia.org/w/index.php?title=Mehrali_Gasimov&action=edit', 'canonicalurl': 'https://en.wikipedia.org/wiki/Mehrali_Gasimov'}\n",
            "{'ns': 0, 'title': 'Kyaw Myint', 'missing': '', 'contentmodel': 'wikitext', 'pagelanguage': 'en', 'pagelanguagehtmlcode': 'en', 'pagelanguagedir': 'ltr', 'fullurl': 'https://en.wikipedia.org/wiki/Kyaw_Myint', 'editurl': 'https://en.wikipedia.org/w/index.php?title=Kyaw_Myint&action=edit', 'canonicalurl': 'https://en.wikipedia.org/wiki/Kyaw_Myint'}\n",
            "{'ns': 0, 'title': 'André Ngongang Ouandji', 'missing': '', 'contentmodel': 'wikitext', 'pagelanguage': 'en', 'pagelanguagehtmlcode': 'en', 'pagelanguagedir': 'ltr', 'fullurl': 'https://en.wikipedia.org/wiki/Andr%C3%A9_Ngongang_Ouandji', 'editurl': 'https://en.wikipedia.org/w/index.php?title=Andr%C3%A9_Ngongang_Ouandji&action=edit', 'canonicalurl': 'https://en.wikipedia.org/wiki/Andr%C3%A9_Ngongang_Ouandji'}\n",
            "{'ns': 0, 'title': 'Tomás Pimentel', 'missing': '', 'contentmodel': 'wikitext', 'pagelanguage': 'en', 'pagelanguagehtmlcode': 'en', 'pagelanguagedir': 'ltr', 'fullurl': 'https://en.wikipedia.org/wiki/Tom%C3%A1s_Pimentel', 'editurl': 'https://en.wikipedia.org/w/index.php?title=Tom%C3%A1s_Pimentel&action=edit', 'canonicalurl': 'https://en.wikipedia.org/wiki/Tom%C3%A1s_Pimentel'}\n",
            "{'ns': 0, 'title': 'Richard Sumah', 'missing': '', 'contentmodel': 'wikitext', 'pagelanguage': 'en', 'pagelanguagehtmlcode': 'en', 'pagelanguagedir': 'ltr', 'fullurl': 'https://en.wikipedia.org/wiki/Richard_Sumah', 'editurl': 'https://en.wikipedia.org/w/index.php?title=Richard_Sumah&action=edit', 'canonicalurl': 'https://en.wikipedia.org/wiki/Richard_Sumah'}\n",
            "{'ns': 0, 'title': \"Segun ''Aeroland'' Adewale\", 'missing': '', 'contentmodel': 'wikitext', 'pagelanguage': 'en', 'pagelanguagehtmlcode': 'en', 'pagelanguagedir': 'ltr', 'fullurl': 'https://en.wikipedia.org/wiki/Segun_%27%27Aeroland%27%27_Adewale', 'editurl': 'https://en.wikipedia.org/w/index.php?title=Segun_%27%27Aeroland%27%27_Adewale&action=edit', 'canonicalurl': 'https://en.wikipedia.org/wiki/Segun_%27%27Aeroland%27%27_Adewale'}\n",
            "{'ns': 0, 'title': 'Bashir Bililiqo', 'missing': '', 'contentmodel': 'wikitext', 'pagelanguage': 'en', 'pagelanguagehtmlcode': 'en', 'pagelanguagedir': 'ltr', 'fullurl': 'https://en.wikipedia.org/wiki/Bashir_Bililiqo', 'editurl': 'https://en.wikipedia.org/w/index.php?title=Bashir_Bililiqo&action=edit', 'canonicalurl': 'https://en.wikipedia.org/wiki/Bashir_Bililiqo'}\n"
          ]
        }
      ]
    },
    {
      "cell_type": "markdown",
      "source": [
        "If we open and click the above links, we can see that 7 of the articles have been migrated to a draft article or a new link, and hence there is no revision id information for these. The article `Segun ''Aeroland'' Adewale` seems to be completely deleted. We will handle these gracefully later down so that there is no errors thrown.\n"
      ],
      "metadata": {
        "id": "7oX3FMDIQoax"
      }
    },
    {
      "cell_type": "code",
      "source": [
        "# Sample print to understand the output\n",
        "wiki_information['Denis Walker']"
      ],
      "metadata": {
        "id": "q1dCXE_0bJz0",
        "colab": {
          "base_uri": "https://localhost:8080/"
        },
        "outputId": "a9f343bc-c122-4cd2-80a9-00b49693fce9"
      },
      "execution_count": 19,
      "outputs": [
        {
          "output_type": "execute_result",
          "data": {
            "text/plain": [
              "{'pageid': 3255571,\n",
              " 'ns': 0,\n",
              " 'title': 'Denis Walker',\n",
              " 'contentmodel': 'wikitext',\n",
              " 'pagelanguage': 'en',\n",
              " 'pagelanguagehtmlcode': 'en',\n",
              " 'pagelanguagedir': 'ltr',\n",
              " 'touched': '2024-10-05T14:24:34Z',\n",
              " 'lastrevid': 1247902630,\n",
              " 'length': 10247,\n",
              " 'talkid': 3338681,\n",
              " 'fullurl': 'https://en.wikipedia.org/wiki/Denis_Walker',\n",
              " 'editurl': 'https://en.wikipedia.org/w/index.php?title=Denis_Walker&action=edit',\n",
              " 'canonicalurl': 'https://en.wikipedia.org/wiki/Denis_Walker'}"
            ]
          },
          "metadata": {},
          "execution_count": 19
        }
      ]
    },
    {
      "cell_type": "markdown",
      "source": [
        "We will write the information and store it in a separate JSON for easier access later on."
      ],
      "metadata": {
        "id": "_xxJ3f3mR1pZ"
      }
    },
    {
      "cell_type": "code",
      "source": [
        "# Utility function to write the data to JSON\n",
        "def write_to_json(filename, data):\n",
        "    with open(filename, 'w') as f:\n",
        "        json.dump(data, f, indent=4)\n",
        "        print(f\"{filename} created successfully!\")\n",
        "\n",
        "# This writes the files to the same folder that the code is structured in. If\n",
        "# you want to change the path, make sure you provide the right path.\n",
        "write_to_json('wiki_page_info.json', wiki_information)"
      ],
      "metadata": {
        "id": "0N1PV-ggXdRm",
        "colab": {
          "base_uri": "https://localhost:8080/"
        },
        "outputId": "6cf37c2e-cb91-4a1e-b7c4-b2b4bac4809d"
      },
      "execution_count": 20,
      "outputs": [
        {
          "output_type": "stream",
          "name": "stdout",
          "text": [
            "wiki_page_info.json created successfully!\n"
          ]
        }
      ]
    },
    {
      "cell_type": "markdown",
      "source": [
        "## 4. Get article quality from ORES API\n",
        "In this call, we make the API call to ORES API to get all the quality prediction for the wikipedia articles about the politicians. If you are on a time crunch, just load the existing data that I've saved from earlier API call. This API call takes approx. 2 hours to run (which I've commented out below), so sit back and grab some more popcorn while this runs. This is [exactly how long the process will run for](https://www.youtube.com/watch?v=oMrfhk-MXRg).\n"
      ],
      "metadata": {
        "id": "6m8EHAjQSGKY"
      }
    },
    {
      "cell_type": "code",
      "source": [
        "# ores_information = {}\n",
        "\n",
        "# for title in wiki_information.keys():\n",
        "#     info = wiki_information[title]\n",
        "#     if 'lastrevid' in info:\n",
        "#         revid = info['lastrevid']\n",
        "#         score = request_ores_score_per_article(article_revid=revid,\n",
        "#                                        email_address=REQUEST_HEADER_PARAMS_TEMPLATE['email_address'],\n",
        "#                                        access_token=ACCESS_TOKEN)\n",
        "#         ores_information[title] = score"
      ],
      "metadata": {
        "id": "t_fiIC71ld5g"
      },
      "execution_count": 21,
      "outputs": []
    },
    {
      "cell_type": "code",
      "source": [
        "# for key, value in ores_information.items():\n",
        "#     print(key, value)"
      ],
      "metadata": {
        "id": "M2x6hvyumfVo"
      },
      "execution_count": 22,
      "outputs": []
    },
    {
      "cell_type": "code",
      "source": [
        "# # Utility function to write the data to JSON\n",
        "# def write_to_json(filename, data):\n",
        "#     with open(filename, 'w') as f:\n",
        "#         json.dump(data, f, indent=4)\n",
        "#         print(f\"{filename} created successfully!\")\n",
        "\n",
        "# # This writes the files to the same folder that the code is structured in. If\n",
        "# # you want to change the path, make sure you provide the right path.\n",
        "# write_to_json('ores_info.json', ores_information)"
      ],
      "metadata": {
        "id": "xjWGSHcBomtG"
      },
      "execution_count": 23,
      "outputs": []
    },
    {
      "cell_type": "code",
      "source": [
        "# Read the `ores_info.json` file\n",
        "ores_information = {}\n",
        "with open('ores_info.json', 'r') as f:\n",
        "    ores_information = json.load(f)"
      ],
      "metadata": {
        "id": "hdOXtWU5A2Uc"
      },
      "execution_count": 24,
      "outputs": []
    },
    {
      "cell_type": "code",
      "source": [
        "# Exploring the length of the dataset `ores_information`\n",
        "len(ores_information)"
      ],
      "metadata": {
        "id": "_vny5bZ93cjO",
        "colab": {
          "base_uri": "https://localhost:8080/"
        },
        "outputId": "469588e3-696e-4de5-8fa3-fe8508ff97f5"
      },
      "execution_count": 25,
      "outputs": [
        {
          "output_type": "execute_result",
          "data": {
            "text/plain": [
              "7103"
            ]
          },
          "metadata": {},
          "execution_count": 25
        }
      ]
    },
    {
      "cell_type": "code",
      "source": [
        "# Understanding the structure of `ores_information`\n",
        "list(ores_information.values())[1]"
      ],
      "metadata": {
        "id": "Xt47Tor7Yoft",
        "colab": {
          "base_uri": "https://localhost:8080/"
        },
        "outputId": "31de691e-24d0-44e4-9a42-b84aaf57809d"
      },
      "execution_count": 50,
      "outputs": [
        {
          "output_type": "execute_result",
          "data": {
            "text/plain": [
              "{'enwiki': {'models': {'articlequality': {'version': '0.9.2'}},\n",
              "  'scores': {'1227026187': {'articlequality': {'score': {'prediction': 'Stub',\n",
              "      'probability': {'B': 0.011385918433177827,\n",
              "       'C': 0.01746636720083123,\n",
              "       'FA': 0.0023603522965185463,\n",
              "       'GA': 0.005156605723717649,\n",
              "       'Start': 0.0518527973277106,\n",
              "       'Stub': 0.9117779590180441}}}}}}}"
            ]
          },
          "metadata": {},
          "execution_count": 50
        }
      ]
    },
    {
      "cell_type": "markdown",
      "source": [
        "There seems to be lot of values that we will not be using for our analysis. We will be formatting the responses to create a mapping with only those values that we want to use."
      ],
      "metadata": {
        "id": "qY88GASo8RaY"
      }
    },
    {
      "cell_type": "code",
      "source": [
        "def get_lastrevid(wiki_info):\n",
        "    \"\"\"\n",
        "    Retrieve the last revision ID from the wiki information.\n",
        "\n",
        "    Parameters:\n",
        "    wiki_info (dict): Dictionary containing wiki data.\n",
        "\n",
        "    Returns:\n",
        "    int or None: The last revision ID if present; otherwise, None.\n",
        "    \"\"\"\n",
        "    if 'lastrevid' in wiki_info:\n",
        "        return wiki_info['lastrevid']\n",
        "    else:\n",
        "        return None\n",
        "\n",
        "\n",
        "ores_prediction = {}\n",
        "issues = {}\n",
        "\n",
        "# Iterate through each title and value in wiki_information\n",
        "for title, value in wiki_information.items():\n",
        "    # Check for missing ores information\n",
        "    if title not in ores_information:\n",
        "        issues[title] = 'ores_information missing'\n",
        "        continue\n",
        "    ores_info = ores_information[title]\n",
        "    revid = get_lastrevid(value)\n",
        "    if revid is not None:\n",
        "        # Check for enwiki and scores\n",
        "        if 'enwiki' in ores_info and 'scores' in ores_info['enwiki']:\n",
        "            first_level = ores_info['enwiki']['scores']\n",
        "            # Check if revid exists in scores\n",
        "            if str(revid) in first_level.keys():\n",
        "                ores_prediction[title] = first_level[f'{revid}'][\"articlequality\"][\"score\"][\"prediction\"]\n",
        "            else:\n",
        "                # Handle missing revid\n",
        "                issues[title] = 'revid id missing in prediction value'\n",
        "                continue\n",
        "        else:\n",
        "            # Handle missing enwiki/scores\n",
        "            issues[title] = 'enwiki/scores missing'\n",
        "            continue\n",
        "    else:\n",
        "        # Handle missing last revision ID\n",
        "        issues[title] = 'lastrevid missing'"
      ],
      "metadata": {
        "id": "mTpXNw8ZBN7C"
      },
      "execution_count": 27,
      "outputs": []
    },
    {
      "cell_type": "code",
      "source": [
        "# Checking if the response from the API only has our desired outputs\n",
        "set(ores_prediction.values())"
      ],
      "metadata": {
        "id": "QLKf0NDkNDu_",
        "colab": {
          "base_uri": "https://localhost:8080/"
        },
        "outputId": "822bbb86-3810-4e4b-8f14-4551caf378e7"
      },
      "execution_count": 28,
      "outputs": [
        {
          "output_type": "execute_result",
          "data": {
            "text/plain": [
              "{'B', 'C', 'FA', 'GA', 'Start', 'Stub'}"
            ]
          },
          "metadata": {},
          "execution_count": 28
        }
      ]
    },
    {
      "cell_type": "code",
      "source": [
        "# Count the number of entries with ORES API issues\n",
        "ores_error_count = 0\n",
        "for key, value in issues.items():\n",
        "    if value == 'enwiki/scores missing' or value == 'revid id missing in prediction value':\n",
        "        print(key)\n",
        "        print(value)\n",
        "        print(\"-x-x-x-x\")\n",
        "        ores_error_count += 1\n"
      ],
      "metadata": {
        "id": "Mfjwl5kyLSg3",
        "colab": {
          "base_uri": "https://localhost:8080/"
        },
        "outputId": "9105c4a5-f909-4dc2-90b3-14f07109277e"
      },
      "execution_count": 29,
      "outputs": [
        {
          "output_type": "stream",
          "name": "stdout",
          "text": [
            "Abdul Baqi Turkistani\n",
            "enwiki/scores missing\n",
            "-x-x-x-x\n",
            "Bernard Percival\n",
            "enwiki/scores missing\n",
            "-x-x-x-x\n",
            "Carlos de la Rosa\n",
            "enwiki/scores missing\n",
            "-x-x-x-x\n",
            "Ali bin Khalifa Al Khalifa\n",
            "revid id missing in prediction value\n",
            "-x-x-x-x\n",
            "Salman bin Hamad Al Khalifa\n",
            "revid id missing in prediction value\n",
            "-x-x-x-x\n",
            "Hristo Petrov\n",
            "revid id missing in prediction value\n",
            "-x-x-x-x\n",
            "Ventsislav Varbanov\n",
            "enwiki/scores missing\n",
            "-x-x-x-x\n",
            "Za Hlei Thang\n",
            "revid id missing in prediction value\n",
            "-x-x-x-x\n",
            "Bun Chanmol\n",
            "enwiki/scores missing\n",
            "-x-x-x-x\n",
            "Ieu Koeus\n",
            "revid id missing in prediction value\n",
            "-x-x-x-x\n",
            "Andargachew Tsege\n",
            "revid id missing in prediction value\n",
            "-x-x-x-x\n",
            "Georg Magnus Sprengtporten\n",
            "revid id missing in prediction value\n",
            "-x-x-x-x\n",
            "Muhammed Magassy\n",
            "enwiki/scores missing\n",
            "-x-x-x-x\n",
            "Bachhav Shobha Dinesh\n",
            "revid id missing in prediction value\n",
            "-x-x-x-x\n",
            "Ono no Imoko\n",
            "revid id missing in prediction value\n",
            "-x-x-x-x\n",
            "Sugawara no Kiyotomo\n",
            "revid id missing in prediction value\n",
            "-x-x-x-x\n",
            "Faisal Shboul\n",
            "enwiki/scores missing\n",
            "-x-x-x-x\n",
            "Haditha Jamal Haditha Al-Khreisha\n",
            "enwiki/scores missing\n",
            "-x-x-x-x\n",
            "Hani Khasawneh\n",
            "enwiki/scores missing\n",
            "-x-x-x-x\n",
            "Jean-Pierre Büchler\n",
            "revid id missing in prediction value\n",
            "-x-x-x-x\n",
            "Vangel Ajanovski-Oče\n",
            "revid id missing in prediction value\n",
            "-x-x-x-x\n",
            "Sharif Mohamed\n",
            "revid id missing in prediction value\n",
            "-x-x-x-x\n",
            "Ion Ceban\n",
            "revid id missing in prediction value\n",
            "-x-x-x-x\n",
            "Jahan Zeb of Swat\n",
            "revid id missing in prediction value\n",
            "-x-x-x-x\n",
            "Omar Barghouti\n",
            "revid id missing in prediction value\n",
            "-x-x-x-x\n",
            "Juan Carlos Da Costa\n",
            "enwiki/scores missing\n",
            "-x-x-x-x\n",
            "Jorge Muñoz Wells\n",
            "revid id missing in prediction value\n",
            "-x-x-x-x\n",
            "Nina Fehr Düsel\n",
            "enwiki/scores missing\n",
            "-x-x-x-x\n",
            "Patricia von Falkenstein\n",
            "enwiki/scores missing\n",
            "-x-x-x-x\n"
          ]
        }
      ]
    },
    {
      "cell_type": "code",
      "source": [
        "# ORES error rate\n",
        "print('Number of entries with ORES API issues =', ores_error_count)\n",
        "print('ORES error rate =', ores_error_count/len(ores_prediction))"
      ],
      "metadata": {
        "colab": {
          "base_uri": "https://localhost:8080/"
        },
        "id": "c87YhjPTo9bX",
        "outputId": "44d05b1a-e797-4ea5-85c1-819f97c18da6"
      },
      "execution_count": 30,
      "outputs": [
        {
          "output_type": "stream",
          "name": "stdout",
          "text": [
            "Number of entries with ORES API issues = 29\n",
            "ORES error rate = 0.004099519366694939\n"
          ]
        }
      ]
    },
    {
      "cell_type": "markdown",
      "source": [
        "## 5. Finding regions for each country\n",
        "In `population_by_country.csv`, there is multiple levels of heading for each country, and all the regions are in capital letters. Using that as a guiding principle to identify regions, and the instructions to always put a country in the closest (lowest in the hierarchy) region, we arrive at the below code to find the regions."
      ],
      "metadata": {
        "id": "tHbFvT5Xfmve"
      }
    },
    {
      "cell_type": "code",
      "source": [
        "current_region = None\n",
        "country_region_mapping = []\n",
        "\n",
        "for index, row in countries.iterrows():\n",
        "    geography = row['Geography']\n",
        "    population = row['Population']\n",
        "\n",
        "    # Check if the geography is in all caps, which is an indication of the region\n",
        "    if geography.isupper():\n",
        "        current_region = geography\n",
        "    else:\n",
        "        # If it's a country, map it to the current region\n",
        "        if current_region:\n",
        "            country_region_mapping.append([geography, current_region, population])\n",
        "\n",
        "# Convert the mapping list into a Pandas dataframe\n",
        "df_mapped = pd.DataFrame(country_region_mapping, columns=['country', 'region', 'population'])\n",
        "df_mapped.head()"
      ],
      "metadata": {
        "id": "movpafCLqJFl",
        "colab": {
          "base_uri": "https://localhost:8080/",
          "height": 0
        },
        "outputId": "278a7952-5cb0-42c4-c633-bb1e28c28b4e"
      },
      "execution_count": 31,
      "outputs": [
        {
          "output_type": "execute_result",
          "data": {
            "text/plain": [
              "   country           region  population\n",
              "0  Algeria  NORTHERN AFRICA        46.8\n",
              "1    Egypt  NORTHERN AFRICA       105.2\n",
              "2    Libya  NORTHERN AFRICA         6.9\n",
              "3  Morocco  NORTHERN AFRICA        37.0\n",
              "4    Sudan  NORTHERN AFRICA        48.1"
            ],
            "text/html": [
              "\n",
              "  <div id=\"df-587f9806-b66c-4fb7-b117-732bf71883ef\" class=\"colab-df-container\">\n",
              "    <div>\n",
              "<style scoped>\n",
              "    .dataframe tbody tr th:only-of-type {\n",
              "        vertical-align: middle;\n",
              "    }\n",
              "\n",
              "    .dataframe tbody tr th {\n",
              "        vertical-align: top;\n",
              "    }\n",
              "\n",
              "    .dataframe thead th {\n",
              "        text-align: right;\n",
              "    }\n",
              "</style>\n",
              "<table border=\"1\" class=\"dataframe\">\n",
              "  <thead>\n",
              "    <tr style=\"text-align: right;\">\n",
              "      <th></th>\n",
              "      <th>country</th>\n",
              "      <th>region</th>\n",
              "      <th>population</th>\n",
              "    </tr>\n",
              "  </thead>\n",
              "  <tbody>\n",
              "    <tr>\n",
              "      <th>0</th>\n",
              "      <td>Algeria</td>\n",
              "      <td>NORTHERN AFRICA</td>\n",
              "      <td>46.8</td>\n",
              "    </tr>\n",
              "    <tr>\n",
              "      <th>1</th>\n",
              "      <td>Egypt</td>\n",
              "      <td>NORTHERN AFRICA</td>\n",
              "      <td>105.2</td>\n",
              "    </tr>\n",
              "    <tr>\n",
              "      <th>2</th>\n",
              "      <td>Libya</td>\n",
              "      <td>NORTHERN AFRICA</td>\n",
              "      <td>6.9</td>\n",
              "    </tr>\n",
              "    <tr>\n",
              "      <th>3</th>\n",
              "      <td>Morocco</td>\n",
              "      <td>NORTHERN AFRICA</td>\n",
              "      <td>37.0</td>\n",
              "    </tr>\n",
              "    <tr>\n",
              "      <th>4</th>\n",
              "      <td>Sudan</td>\n",
              "      <td>NORTHERN AFRICA</td>\n",
              "      <td>48.1</td>\n",
              "    </tr>\n",
              "  </tbody>\n",
              "</table>\n",
              "</div>\n",
              "    <div class=\"colab-df-buttons\">\n",
              "\n",
              "  <div class=\"colab-df-container\">\n",
              "    <button class=\"colab-df-convert\" onclick=\"convertToInteractive('df-587f9806-b66c-4fb7-b117-732bf71883ef')\"\n",
              "            title=\"Convert this dataframe to an interactive table.\"\n",
              "            style=\"display:none;\">\n",
              "\n",
              "  <svg xmlns=\"http://www.w3.org/2000/svg\" height=\"24px\" viewBox=\"0 -960 960 960\">\n",
              "    <path d=\"M120-120v-720h720v720H120Zm60-500h600v-160H180v160Zm220 220h160v-160H400v160Zm0 220h160v-160H400v160ZM180-400h160v-160H180v160Zm440 0h160v-160H620v160ZM180-180h160v-160H180v160Zm440 0h160v-160H620v160Z\"/>\n",
              "  </svg>\n",
              "    </button>\n",
              "\n",
              "  <style>\n",
              "    .colab-df-container {\n",
              "      display:flex;\n",
              "      gap: 12px;\n",
              "    }\n",
              "\n",
              "    .colab-df-convert {\n",
              "      background-color: #E8F0FE;\n",
              "      border: none;\n",
              "      border-radius: 50%;\n",
              "      cursor: pointer;\n",
              "      display: none;\n",
              "      fill: #1967D2;\n",
              "      height: 32px;\n",
              "      padding: 0 0 0 0;\n",
              "      width: 32px;\n",
              "    }\n",
              "\n",
              "    .colab-df-convert:hover {\n",
              "      background-color: #E2EBFA;\n",
              "      box-shadow: 0px 1px 2px rgba(60, 64, 67, 0.3), 0px 1px 3px 1px rgba(60, 64, 67, 0.15);\n",
              "      fill: #174EA6;\n",
              "    }\n",
              "\n",
              "    .colab-df-buttons div {\n",
              "      margin-bottom: 4px;\n",
              "    }\n",
              "\n",
              "    [theme=dark] .colab-df-convert {\n",
              "      background-color: #3B4455;\n",
              "      fill: #D2E3FC;\n",
              "    }\n",
              "\n",
              "    [theme=dark] .colab-df-convert:hover {\n",
              "      background-color: #434B5C;\n",
              "      box-shadow: 0px 1px 3px 1px rgba(0, 0, 0, 0.15);\n",
              "      filter: drop-shadow(0px 1px 2px rgba(0, 0, 0, 0.3));\n",
              "      fill: #FFFFFF;\n",
              "    }\n",
              "  </style>\n",
              "\n",
              "    <script>\n",
              "      const buttonEl =\n",
              "        document.querySelector('#df-587f9806-b66c-4fb7-b117-732bf71883ef button.colab-df-convert');\n",
              "      buttonEl.style.display =\n",
              "        google.colab.kernel.accessAllowed ? 'block' : 'none';\n",
              "\n",
              "      async function convertToInteractive(key) {\n",
              "        const element = document.querySelector('#df-587f9806-b66c-4fb7-b117-732bf71883ef');\n",
              "        const dataTable =\n",
              "          await google.colab.kernel.invokeFunction('convertToInteractive',\n",
              "                                                    [key], {});\n",
              "        if (!dataTable) return;\n",
              "\n",
              "        const docLinkHtml = 'Like what you see? Visit the ' +\n",
              "          '<a target=\"_blank\" href=https://colab.research.google.com/notebooks/data_table.ipynb>data table notebook</a>'\n",
              "          + ' to learn more about interactive tables.';\n",
              "        element.innerHTML = '';\n",
              "        dataTable['output_type'] = 'display_data';\n",
              "        await google.colab.output.renderOutput(dataTable, element);\n",
              "        const docLink = document.createElement('div');\n",
              "        docLink.innerHTML = docLinkHtml;\n",
              "        element.appendChild(docLink);\n",
              "      }\n",
              "    </script>\n",
              "  </div>\n",
              "\n",
              "\n",
              "<div id=\"df-ae61c9f6-c782-42ad-abe7-65575e29a1c2\">\n",
              "  <button class=\"colab-df-quickchart\" onclick=\"quickchart('df-ae61c9f6-c782-42ad-abe7-65575e29a1c2')\"\n",
              "            title=\"Suggest charts\"\n",
              "            style=\"display:none;\">\n",
              "\n",
              "<svg xmlns=\"http://www.w3.org/2000/svg\" height=\"24px\"viewBox=\"0 0 24 24\"\n",
              "     width=\"24px\">\n",
              "    <g>\n",
              "        <path d=\"M19 3H5c-1.1 0-2 .9-2 2v14c0 1.1.9 2 2 2h14c1.1 0 2-.9 2-2V5c0-1.1-.9-2-2-2zM9 17H7v-7h2v7zm4 0h-2V7h2v10zm4 0h-2v-4h2v4z\"/>\n",
              "    </g>\n",
              "</svg>\n",
              "  </button>\n",
              "\n",
              "<style>\n",
              "  .colab-df-quickchart {\n",
              "      --bg-color: #E8F0FE;\n",
              "      --fill-color: #1967D2;\n",
              "      --hover-bg-color: #E2EBFA;\n",
              "      --hover-fill-color: #174EA6;\n",
              "      --disabled-fill-color: #AAA;\n",
              "      --disabled-bg-color: #DDD;\n",
              "  }\n",
              "\n",
              "  [theme=dark] .colab-df-quickchart {\n",
              "      --bg-color: #3B4455;\n",
              "      --fill-color: #D2E3FC;\n",
              "      --hover-bg-color: #434B5C;\n",
              "      --hover-fill-color: #FFFFFF;\n",
              "      --disabled-bg-color: #3B4455;\n",
              "      --disabled-fill-color: #666;\n",
              "  }\n",
              "\n",
              "  .colab-df-quickchart {\n",
              "    background-color: var(--bg-color);\n",
              "    border: none;\n",
              "    border-radius: 50%;\n",
              "    cursor: pointer;\n",
              "    display: none;\n",
              "    fill: var(--fill-color);\n",
              "    height: 32px;\n",
              "    padding: 0;\n",
              "    width: 32px;\n",
              "  }\n",
              "\n",
              "  .colab-df-quickchart:hover {\n",
              "    background-color: var(--hover-bg-color);\n",
              "    box-shadow: 0 1px 2px rgba(60, 64, 67, 0.3), 0 1px 3px 1px rgba(60, 64, 67, 0.15);\n",
              "    fill: var(--button-hover-fill-color);\n",
              "  }\n",
              "\n",
              "  .colab-df-quickchart-complete:disabled,\n",
              "  .colab-df-quickchart-complete:disabled:hover {\n",
              "    background-color: var(--disabled-bg-color);\n",
              "    fill: var(--disabled-fill-color);\n",
              "    box-shadow: none;\n",
              "  }\n",
              "\n",
              "  .colab-df-spinner {\n",
              "    border: 2px solid var(--fill-color);\n",
              "    border-color: transparent;\n",
              "    border-bottom-color: var(--fill-color);\n",
              "    animation:\n",
              "      spin 1s steps(1) infinite;\n",
              "  }\n",
              "\n",
              "  @keyframes spin {\n",
              "    0% {\n",
              "      border-color: transparent;\n",
              "      border-bottom-color: var(--fill-color);\n",
              "      border-left-color: var(--fill-color);\n",
              "    }\n",
              "    20% {\n",
              "      border-color: transparent;\n",
              "      border-left-color: var(--fill-color);\n",
              "      border-top-color: var(--fill-color);\n",
              "    }\n",
              "    30% {\n",
              "      border-color: transparent;\n",
              "      border-left-color: var(--fill-color);\n",
              "      border-top-color: var(--fill-color);\n",
              "      border-right-color: var(--fill-color);\n",
              "    }\n",
              "    40% {\n",
              "      border-color: transparent;\n",
              "      border-right-color: var(--fill-color);\n",
              "      border-top-color: var(--fill-color);\n",
              "    }\n",
              "    60% {\n",
              "      border-color: transparent;\n",
              "      border-right-color: var(--fill-color);\n",
              "    }\n",
              "    80% {\n",
              "      border-color: transparent;\n",
              "      border-right-color: var(--fill-color);\n",
              "      border-bottom-color: var(--fill-color);\n",
              "    }\n",
              "    90% {\n",
              "      border-color: transparent;\n",
              "      border-bottom-color: var(--fill-color);\n",
              "    }\n",
              "  }\n",
              "</style>\n",
              "\n",
              "  <script>\n",
              "    async function quickchart(key) {\n",
              "      const quickchartButtonEl =\n",
              "        document.querySelector('#' + key + ' button');\n",
              "      quickchartButtonEl.disabled = true;  // To prevent multiple clicks.\n",
              "      quickchartButtonEl.classList.add('colab-df-spinner');\n",
              "      try {\n",
              "        const charts = await google.colab.kernel.invokeFunction(\n",
              "            'suggestCharts', [key], {});\n",
              "      } catch (error) {\n",
              "        console.error('Error during call to suggestCharts:', error);\n",
              "      }\n",
              "      quickchartButtonEl.classList.remove('colab-df-spinner');\n",
              "      quickchartButtonEl.classList.add('colab-df-quickchart-complete');\n",
              "    }\n",
              "    (() => {\n",
              "      let quickchartButtonEl =\n",
              "        document.querySelector('#df-ae61c9f6-c782-42ad-abe7-65575e29a1c2 button');\n",
              "      quickchartButtonEl.style.display =\n",
              "        google.colab.kernel.accessAllowed ? 'block' : 'none';\n",
              "    })();\n",
              "  </script>\n",
              "</div>\n",
              "\n",
              "    </div>\n",
              "  </div>\n"
            ],
            "application/vnd.google.colaboratory.intrinsic+json": {
              "type": "dataframe",
              "variable_name": "df_mapped",
              "summary": "{\n  \"name\": \"df_mapped\",\n  \"rows\": 209,\n  \"fields\": [\n    {\n      \"column\": \"country\",\n      \"properties\": {\n        \"dtype\": \"string\",\n        \"num_unique_values\": 209,\n        \"samples\": [\n          \"Malawi\",\n          \"Moldova\",\n          \"Argentina\"\n        ],\n        \"semantic_type\": \"\",\n        \"description\": \"\"\n      }\n    },\n    {\n      \"column\": \"region\",\n      \"properties\": {\n        \"dtype\": \"category\",\n        \"num_unique_values\": 19,\n        \"samples\": [\n          \"NORTHERN AFRICA\",\n          \"NORTHERN AMERICA\",\n          \"SOUTH ASIA\"\n        ],\n        \"semantic_type\": \"\",\n        \"description\": \"\"\n      }\n    },\n    {\n      \"column\": \"population\",\n      \"properties\": {\n        \"dtype\": \"number\",\n        \"std\": 144.0936980975634,\n        \"min\": 0.0,\n        \"max\": 1428.6,\n        \"num_unique_values\": 147,\n        \"samples\": [\n          10.5,\n          2.3,\n          19.1\n        ],\n        \"semantic_type\": \"\",\n        \"description\": \"\"\n      }\n    }\n  ]\n}"
            }
          },
          "metadata": {},
          "execution_count": 31
        }
      ]
    },
    {
      "cell_type": "code",
      "source": [
        "print(f'Length of country_region_mapping = {len(df_mapped)}')"
      ],
      "metadata": {
        "id": "LmTC5F8LGFPH",
        "colab": {
          "base_uri": "https://localhost:8080/"
        },
        "outputId": "1977c249-00a2-4f08-ee18-3dbcd03eaca2"
      },
      "execution_count": 32,
      "outputs": [
        {
          "output_type": "stream",
          "name": "stdout",
          "text": [
            "Length of country_region_mapping = 209\n"
          ]
        }
      ]
    },
    {
      "cell_type": "markdown",
      "source": [
        "## 6. Combining the two datasets\n",
        "In this step, we merge the wikipedia and the population data together. We first create the wikipedia dataframe with the revision id and ORES article rating prediction and create a dataframe with all 7155 rows of politician data with `article_title`.\n"
      ],
      "metadata": {
        "id": "-DCbNRR39BdP"
      }
    },
    {
      "cell_type": "code",
      "source": [
        "def get_revid(title):\n",
        "    \"\"\"\n",
        "    Get the last revision ID for a given title.\n",
        "\n",
        "    Parameters:\n",
        "    title (str): The title of the article.\n",
        "\n",
        "    Returns:\n",
        "    str or None: Last revision ID as a string or None if not found.\n",
        "    \"\"\"\n",
        "    if title in wiki_information:\n",
        "        return str(get_lastrevid(wiki_information[title]))\n",
        "    else:\n",
        "        return None\n",
        "\n",
        "def get_article_quality(title):\n",
        "    \"\"\"\n",
        "    Retrieve the article quality prediction for a given title.\n",
        "\n",
        "    Parameters:\n",
        "    title (str): The title of the article.\n",
        "\n",
        "    Returns:\n",
        "    Any or None: Article quality prediction or None if not found.\n",
        "    \"\"\"\n",
        "    if title in ores_prediction:\n",
        "        return ores_prediction[title]\n",
        "    else:\n",
        "        return None\n",
        "\n",
        "politicians_df = politicians.drop(columns='url').copy()\n",
        "\n",
        "# Rename the columns using the mapping\n",
        "column_rename_mapping = {'name': 'article_title', 'country': 'country'}\n",
        "politicians_df = politicians_df.rename(columns=column_rename_mapping)\n",
        "\n",
        "# Create the new columns `revision_id` and `article_title`\n",
        "politicians_df['revision_id'] = politicians_df['article_title'].apply(get_revid)\n",
        "politicians_df['article_quality'] = politicians_df['article_title'].apply(get_article_quality)"
      ],
      "metadata": {
        "id": "BksTufbtNCkI"
      },
      "execution_count": 33,
      "outputs": []
    },
    {
      "cell_type": "code",
      "source": [
        "# Checking the output of the previous step\n",
        "politicians_df.head()"
      ],
      "metadata": {
        "id": "HOYzOJYk1zbW",
        "colab": {
          "base_uri": "https://localhost:8080/",
          "height": 0
        },
        "outputId": "d1669a3f-14b0-4dae-c41d-4c0874bbd6e1"
      },
      "execution_count": 34,
      "outputs": [
        {
          "output_type": "execute_result",
          "data": {
            "text/plain": [
              "          article_title      country revision_id article_quality\n",
              "0        Majah Ha Adrif  Afghanistan  1233202991           Start\n",
              "1     Haroon al-Afghani  Afghanistan  1230459615               B\n",
              "2           Tayyab Agha  Afghanistan  1225661708           Start\n",
              "3  Khadija Zahra Ahmadi  Afghanistan  1234741562            Stub\n",
              "4        Aziza Ahmadyar  Afghanistan  1195651393           Start"
            ],
            "text/html": [
              "\n",
              "  <div id=\"df-a802c88c-6e84-41d2-9be9-3da51ed2d122\" class=\"colab-df-container\">\n",
              "    <div>\n",
              "<style scoped>\n",
              "    .dataframe tbody tr th:only-of-type {\n",
              "        vertical-align: middle;\n",
              "    }\n",
              "\n",
              "    .dataframe tbody tr th {\n",
              "        vertical-align: top;\n",
              "    }\n",
              "\n",
              "    .dataframe thead th {\n",
              "        text-align: right;\n",
              "    }\n",
              "</style>\n",
              "<table border=\"1\" class=\"dataframe\">\n",
              "  <thead>\n",
              "    <tr style=\"text-align: right;\">\n",
              "      <th></th>\n",
              "      <th>article_title</th>\n",
              "      <th>country</th>\n",
              "      <th>revision_id</th>\n",
              "      <th>article_quality</th>\n",
              "    </tr>\n",
              "  </thead>\n",
              "  <tbody>\n",
              "    <tr>\n",
              "      <th>0</th>\n",
              "      <td>Majah Ha Adrif</td>\n",
              "      <td>Afghanistan</td>\n",
              "      <td>1233202991</td>\n",
              "      <td>Start</td>\n",
              "    </tr>\n",
              "    <tr>\n",
              "      <th>1</th>\n",
              "      <td>Haroon al-Afghani</td>\n",
              "      <td>Afghanistan</td>\n",
              "      <td>1230459615</td>\n",
              "      <td>B</td>\n",
              "    </tr>\n",
              "    <tr>\n",
              "      <th>2</th>\n",
              "      <td>Tayyab Agha</td>\n",
              "      <td>Afghanistan</td>\n",
              "      <td>1225661708</td>\n",
              "      <td>Start</td>\n",
              "    </tr>\n",
              "    <tr>\n",
              "      <th>3</th>\n",
              "      <td>Khadija Zahra Ahmadi</td>\n",
              "      <td>Afghanistan</td>\n",
              "      <td>1234741562</td>\n",
              "      <td>Stub</td>\n",
              "    </tr>\n",
              "    <tr>\n",
              "      <th>4</th>\n",
              "      <td>Aziza Ahmadyar</td>\n",
              "      <td>Afghanistan</td>\n",
              "      <td>1195651393</td>\n",
              "      <td>Start</td>\n",
              "    </tr>\n",
              "  </tbody>\n",
              "</table>\n",
              "</div>\n",
              "    <div class=\"colab-df-buttons\">\n",
              "\n",
              "  <div class=\"colab-df-container\">\n",
              "    <button class=\"colab-df-convert\" onclick=\"convertToInteractive('df-a802c88c-6e84-41d2-9be9-3da51ed2d122')\"\n",
              "            title=\"Convert this dataframe to an interactive table.\"\n",
              "            style=\"display:none;\">\n",
              "\n",
              "  <svg xmlns=\"http://www.w3.org/2000/svg\" height=\"24px\" viewBox=\"0 -960 960 960\">\n",
              "    <path d=\"M120-120v-720h720v720H120Zm60-500h600v-160H180v160Zm220 220h160v-160H400v160Zm0 220h160v-160H400v160ZM180-400h160v-160H180v160Zm440 0h160v-160H620v160ZM180-180h160v-160H180v160Zm440 0h160v-160H620v160Z\"/>\n",
              "  </svg>\n",
              "    </button>\n",
              "\n",
              "  <style>\n",
              "    .colab-df-container {\n",
              "      display:flex;\n",
              "      gap: 12px;\n",
              "    }\n",
              "\n",
              "    .colab-df-convert {\n",
              "      background-color: #E8F0FE;\n",
              "      border: none;\n",
              "      border-radius: 50%;\n",
              "      cursor: pointer;\n",
              "      display: none;\n",
              "      fill: #1967D2;\n",
              "      height: 32px;\n",
              "      padding: 0 0 0 0;\n",
              "      width: 32px;\n",
              "    }\n",
              "\n",
              "    .colab-df-convert:hover {\n",
              "      background-color: #E2EBFA;\n",
              "      box-shadow: 0px 1px 2px rgba(60, 64, 67, 0.3), 0px 1px 3px 1px rgba(60, 64, 67, 0.15);\n",
              "      fill: #174EA6;\n",
              "    }\n",
              "\n",
              "    .colab-df-buttons div {\n",
              "      margin-bottom: 4px;\n",
              "    }\n",
              "\n",
              "    [theme=dark] .colab-df-convert {\n",
              "      background-color: #3B4455;\n",
              "      fill: #D2E3FC;\n",
              "    }\n",
              "\n",
              "    [theme=dark] .colab-df-convert:hover {\n",
              "      background-color: #434B5C;\n",
              "      box-shadow: 0px 1px 3px 1px rgba(0, 0, 0, 0.15);\n",
              "      filter: drop-shadow(0px 1px 2px rgba(0, 0, 0, 0.3));\n",
              "      fill: #FFFFFF;\n",
              "    }\n",
              "  </style>\n",
              "\n",
              "    <script>\n",
              "      const buttonEl =\n",
              "        document.querySelector('#df-a802c88c-6e84-41d2-9be9-3da51ed2d122 button.colab-df-convert');\n",
              "      buttonEl.style.display =\n",
              "        google.colab.kernel.accessAllowed ? 'block' : 'none';\n",
              "\n",
              "      async function convertToInteractive(key) {\n",
              "        const element = document.querySelector('#df-a802c88c-6e84-41d2-9be9-3da51ed2d122');\n",
              "        const dataTable =\n",
              "          await google.colab.kernel.invokeFunction('convertToInteractive',\n",
              "                                                    [key], {});\n",
              "        if (!dataTable) return;\n",
              "\n",
              "        const docLinkHtml = 'Like what you see? Visit the ' +\n",
              "          '<a target=\"_blank\" href=https://colab.research.google.com/notebooks/data_table.ipynb>data table notebook</a>'\n",
              "          + ' to learn more about interactive tables.';\n",
              "        element.innerHTML = '';\n",
              "        dataTable['output_type'] = 'display_data';\n",
              "        await google.colab.output.renderOutput(dataTable, element);\n",
              "        const docLink = document.createElement('div');\n",
              "        docLink.innerHTML = docLinkHtml;\n",
              "        element.appendChild(docLink);\n",
              "      }\n",
              "    </script>\n",
              "  </div>\n",
              "\n",
              "\n",
              "<div id=\"df-db02cf2d-b838-4baf-abfa-11ecafd18403\">\n",
              "  <button class=\"colab-df-quickchart\" onclick=\"quickchart('df-db02cf2d-b838-4baf-abfa-11ecafd18403')\"\n",
              "            title=\"Suggest charts\"\n",
              "            style=\"display:none;\">\n",
              "\n",
              "<svg xmlns=\"http://www.w3.org/2000/svg\" height=\"24px\"viewBox=\"0 0 24 24\"\n",
              "     width=\"24px\">\n",
              "    <g>\n",
              "        <path d=\"M19 3H5c-1.1 0-2 .9-2 2v14c0 1.1.9 2 2 2h14c1.1 0 2-.9 2-2V5c0-1.1-.9-2-2-2zM9 17H7v-7h2v7zm4 0h-2V7h2v10zm4 0h-2v-4h2v4z\"/>\n",
              "    </g>\n",
              "</svg>\n",
              "  </button>\n",
              "\n",
              "<style>\n",
              "  .colab-df-quickchart {\n",
              "      --bg-color: #E8F0FE;\n",
              "      --fill-color: #1967D2;\n",
              "      --hover-bg-color: #E2EBFA;\n",
              "      --hover-fill-color: #174EA6;\n",
              "      --disabled-fill-color: #AAA;\n",
              "      --disabled-bg-color: #DDD;\n",
              "  }\n",
              "\n",
              "  [theme=dark] .colab-df-quickchart {\n",
              "      --bg-color: #3B4455;\n",
              "      --fill-color: #D2E3FC;\n",
              "      --hover-bg-color: #434B5C;\n",
              "      --hover-fill-color: #FFFFFF;\n",
              "      --disabled-bg-color: #3B4455;\n",
              "      --disabled-fill-color: #666;\n",
              "  }\n",
              "\n",
              "  .colab-df-quickchart {\n",
              "    background-color: var(--bg-color);\n",
              "    border: none;\n",
              "    border-radius: 50%;\n",
              "    cursor: pointer;\n",
              "    display: none;\n",
              "    fill: var(--fill-color);\n",
              "    height: 32px;\n",
              "    padding: 0;\n",
              "    width: 32px;\n",
              "  }\n",
              "\n",
              "  .colab-df-quickchart:hover {\n",
              "    background-color: var(--hover-bg-color);\n",
              "    box-shadow: 0 1px 2px rgba(60, 64, 67, 0.3), 0 1px 3px 1px rgba(60, 64, 67, 0.15);\n",
              "    fill: var(--button-hover-fill-color);\n",
              "  }\n",
              "\n",
              "  .colab-df-quickchart-complete:disabled,\n",
              "  .colab-df-quickchart-complete:disabled:hover {\n",
              "    background-color: var(--disabled-bg-color);\n",
              "    fill: var(--disabled-fill-color);\n",
              "    box-shadow: none;\n",
              "  }\n",
              "\n",
              "  .colab-df-spinner {\n",
              "    border: 2px solid var(--fill-color);\n",
              "    border-color: transparent;\n",
              "    border-bottom-color: var(--fill-color);\n",
              "    animation:\n",
              "      spin 1s steps(1) infinite;\n",
              "  }\n",
              "\n",
              "  @keyframes spin {\n",
              "    0% {\n",
              "      border-color: transparent;\n",
              "      border-bottom-color: var(--fill-color);\n",
              "      border-left-color: var(--fill-color);\n",
              "    }\n",
              "    20% {\n",
              "      border-color: transparent;\n",
              "      border-left-color: var(--fill-color);\n",
              "      border-top-color: var(--fill-color);\n",
              "    }\n",
              "    30% {\n",
              "      border-color: transparent;\n",
              "      border-left-color: var(--fill-color);\n",
              "      border-top-color: var(--fill-color);\n",
              "      border-right-color: var(--fill-color);\n",
              "    }\n",
              "    40% {\n",
              "      border-color: transparent;\n",
              "      border-right-color: var(--fill-color);\n",
              "      border-top-color: var(--fill-color);\n",
              "    }\n",
              "    60% {\n",
              "      border-color: transparent;\n",
              "      border-right-color: var(--fill-color);\n",
              "    }\n",
              "    80% {\n",
              "      border-color: transparent;\n",
              "      border-right-color: var(--fill-color);\n",
              "      border-bottom-color: var(--fill-color);\n",
              "    }\n",
              "    90% {\n",
              "      border-color: transparent;\n",
              "      border-bottom-color: var(--fill-color);\n",
              "    }\n",
              "  }\n",
              "</style>\n",
              "\n",
              "  <script>\n",
              "    async function quickchart(key) {\n",
              "      const quickchartButtonEl =\n",
              "        document.querySelector('#' + key + ' button');\n",
              "      quickchartButtonEl.disabled = true;  // To prevent multiple clicks.\n",
              "      quickchartButtonEl.classList.add('colab-df-spinner');\n",
              "      try {\n",
              "        const charts = await google.colab.kernel.invokeFunction(\n",
              "            'suggestCharts', [key], {});\n",
              "      } catch (error) {\n",
              "        console.error('Error during call to suggestCharts:', error);\n",
              "      }\n",
              "      quickchartButtonEl.classList.remove('colab-df-spinner');\n",
              "      quickchartButtonEl.classList.add('colab-df-quickchart-complete');\n",
              "    }\n",
              "    (() => {\n",
              "      let quickchartButtonEl =\n",
              "        document.querySelector('#df-db02cf2d-b838-4baf-abfa-11ecafd18403 button');\n",
              "      quickchartButtonEl.style.display =\n",
              "        google.colab.kernel.accessAllowed ? 'block' : 'none';\n",
              "    })();\n",
              "  </script>\n",
              "</div>\n",
              "\n",
              "    </div>\n",
              "  </div>\n"
            ],
            "application/vnd.google.colaboratory.intrinsic+json": {
              "type": "dataframe",
              "variable_name": "politicians_df",
              "summary": "{\n  \"name\": \"politicians_df\",\n  \"rows\": 7155,\n  \"fields\": [\n    {\n      \"column\": \"article_title\",\n      \"properties\": {\n        \"dtype\": \"string\",\n        \"num_unique_values\": 7111,\n        \"samples\": [\n          \"Mandipalli Ramprasad Reddy\",\n          \"Yerzhan Ashikbayev\",\n          \"Alim Sherzamonov\"\n        ],\n        \"semantic_type\": \"\",\n        \"description\": \"\"\n      }\n    },\n    {\n      \"column\": \"country\",\n      \"properties\": {\n        \"dtype\": \"category\",\n        \"num_unique_values\": 169,\n        \"samples\": [\n          \"Somalia\",\n          \"Central African Republic\",\n          \"Poland\"\n        ],\n        \"semantic_type\": \"\",\n        \"description\": \"\"\n      }\n    },\n    {\n      \"column\": \"revision_id\",\n      \"properties\": {\n        \"dtype\": \"string\",\n        \"num_unique_values\": 7104,\n        \"samples\": [\n          \"1222223831\",\n          \"1240516482\",\n          \"1248925413\"\n        ],\n        \"semantic_type\": \"\",\n        \"description\": \"\"\n      }\n    },\n    {\n      \"column\": \"article_quality\",\n      \"properties\": {\n        \"dtype\": \"category\",\n        \"num_unique_values\": 6,\n        \"samples\": [\n          \"Start\",\n          \"B\",\n          \"FA\"\n        ],\n        \"semantic_type\": \"\",\n        \"description\": \"\"\n      }\n    }\n  ]\n}"
            }
          },
          "metadata": {},
          "execution_count": 34
        }
      ]
    },
    {
      "cell_type": "markdown",
      "source": [
        "We identify all countries for which there are no matches and output a list of those countries, with each country on a separate line called `wp_countries-no_match.txt`.\n"
      ],
      "metadata": {
        "id": "u9-YYjcp934S"
      }
    },
    {
      "cell_type": "code",
      "source": [
        "a = set(politicians_df['country'].unique())\n",
        "b = set(df_mapped['country'].unique())"
      ],
      "metadata": {
        "id": "zeWSs51f88Bf"
      },
      "execution_count": 35,
      "outputs": []
    },
    {
      "cell_type": "code",
      "source": [
        "# Finding the union ( | ) of\n",
        "# 1. countries in A but not in B\n",
        "# 2. countries in B but not in A\n",
        "country_mismatches = a - b | b - a"
      ],
      "metadata": {
        "id": "YUvgtb2z9VjB"
      },
      "execution_count": 36,
      "outputs": []
    },
    {
      "cell_type": "code",
      "source": [
        "country_mismatches"
      ],
      "metadata": {
        "colab": {
          "base_uri": "https://localhost:8080/"
        },
        "id": "SYSQgQok8GgB",
        "outputId": "6fbc2ee8-de99-4e02-b017-b0a3ba69dad7"
      },
      "execution_count": 37,
      "outputs": [
        {
          "output_type": "execute_result",
          "data": {
            "text/plain": [
              "{'Andorra',\n",
              " 'Australia',\n",
              " 'Brunei',\n",
              " 'Canada',\n",
              " 'China (Hong Kong SAR)',\n",
              " 'China (Macao SAR)',\n",
              " 'Curacao',\n",
              " 'Denmark',\n",
              " 'Dominica',\n",
              " 'Fiji',\n",
              " 'French Guiana',\n",
              " 'French Polynesia',\n",
              " 'Georgia',\n",
              " 'Guadeloupe',\n",
              " 'Guam',\n",
              " 'Guinea-Bissau',\n",
              " 'GuineaBissau',\n",
              " 'Iceland',\n",
              " 'Ireland',\n",
              " 'Jamaica',\n",
              " 'Kiribati',\n",
              " 'Korea (North)',\n",
              " 'Korea (South)',\n",
              " 'Korea, South',\n",
              " 'Korean',\n",
              " 'Liechtenstein',\n",
              " 'Martinique',\n",
              " 'Mauritius',\n",
              " 'Mayotte',\n",
              " 'Mexico',\n",
              " 'Nauru',\n",
              " 'Netherlands',\n",
              " 'New Caledonia',\n",
              " 'New Zealand',\n",
              " 'Palau',\n",
              " 'Philippines',\n",
              " 'Puerto Rico',\n",
              " 'Reunion',\n",
              " 'Romania',\n",
              " 'San Marino',\n",
              " 'Sao Tome and Principe',\n",
              " 'Suriname',\n",
              " 'United Kingdom',\n",
              " 'United States',\n",
              " 'Western Sahara',\n",
              " 'eSwatini'}"
            ]
          },
          "metadata": {},
          "execution_count": 37
        }
      ]
    },
    {
      "cell_type": "code",
      "source": [
        "print('Number of country names that dont match =', len(country_mismatches))"
      ],
      "metadata": {
        "colab": {
          "base_uri": "https://localhost:8080/"
        },
        "id": "SEJ35c6m75HK",
        "outputId": "94da1578-e437-42a9-88ca-02115e14a78f"
      },
      "execution_count": 38,
      "outputs": [
        {
          "output_type": "stream",
          "name": "stdout",
          "text": [
            "Number of country names that dont match = 46\n"
          ]
        }
      ]
    },
    {
      "cell_type": "code",
      "source": [
        "# Writing the output to a txt file\n",
        "with open('wp_countries-no_match.txt', 'w') as f:\n",
        "    f.write(\"\\n\".join(country_mismatches))"
      ],
      "metadata": {
        "id": "nWPMxAxj6xoC"
      },
      "execution_count": 39,
      "outputs": []
    },
    {
      "cell_type": "markdown",
      "source": [
        "We consolidate the remaining data into a single CSV file called `wp_politicians_by_country.csv`. The CSV has the following columns - country, region, population, article_title, revision_id, and article_quality. We perform a inner join because for the countries that don't match, there will be no region and population value. And our analysis involves a lot of per-capita values, which would throw errors or skew our analysis with missing data, so inner join fixes that issue.\n",
        "\n",
        "\n"
      ],
      "metadata": {
        "id": "-Upg-iYa-MuT"
      }
    },
    {
      "cell_type": "code",
      "source": [
        "# Merge the dataframes based on the 'country' column\n",
        "merged_df = politicians_df.merge(df_mapped, on='country', how='inner')\n",
        "merged_df.head()"
      ],
      "metadata": {
        "id": "jWsFN3e_2tWT",
        "colab": {
          "base_uri": "https://localhost:8080/",
          "height": 0
        },
        "outputId": "a24c929c-bbaf-4ec1-cce6-d023be557197"
      },
      "execution_count": 40,
      "outputs": [
        {
          "output_type": "execute_result",
          "data": {
            "text/plain": [
              "          article_title      country revision_id article_quality      region  \\\n",
              "0        Majah Ha Adrif  Afghanistan  1233202991           Start  SOUTH ASIA   \n",
              "1     Haroon al-Afghani  Afghanistan  1230459615               B  SOUTH ASIA   \n",
              "2           Tayyab Agha  Afghanistan  1225661708           Start  SOUTH ASIA   \n",
              "3  Khadija Zahra Ahmadi  Afghanistan  1234741562            Stub  SOUTH ASIA   \n",
              "4        Aziza Ahmadyar  Afghanistan  1195651393           Start  SOUTH ASIA   \n",
              "\n",
              "   population  \n",
              "0        42.4  \n",
              "1        42.4  \n",
              "2        42.4  \n",
              "3        42.4  \n",
              "4        42.4  "
            ],
            "text/html": [
              "\n",
              "  <div id=\"df-3befdc5a-507c-445c-97d2-3d77b4e12db9\" class=\"colab-df-container\">\n",
              "    <div>\n",
              "<style scoped>\n",
              "    .dataframe tbody tr th:only-of-type {\n",
              "        vertical-align: middle;\n",
              "    }\n",
              "\n",
              "    .dataframe tbody tr th {\n",
              "        vertical-align: top;\n",
              "    }\n",
              "\n",
              "    .dataframe thead th {\n",
              "        text-align: right;\n",
              "    }\n",
              "</style>\n",
              "<table border=\"1\" class=\"dataframe\">\n",
              "  <thead>\n",
              "    <tr style=\"text-align: right;\">\n",
              "      <th></th>\n",
              "      <th>article_title</th>\n",
              "      <th>country</th>\n",
              "      <th>revision_id</th>\n",
              "      <th>article_quality</th>\n",
              "      <th>region</th>\n",
              "      <th>population</th>\n",
              "    </tr>\n",
              "  </thead>\n",
              "  <tbody>\n",
              "    <tr>\n",
              "      <th>0</th>\n",
              "      <td>Majah Ha Adrif</td>\n",
              "      <td>Afghanistan</td>\n",
              "      <td>1233202991</td>\n",
              "      <td>Start</td>\n",
              "      <td>SOUTH ASIA</td>\n",
              "      <td>42.4</td>\n",
              "    </tr>\n",
              "    <tr>\n",
              "      <th>1</th>\n",
              "      <td>Haroon al-Afghani</td>\n",
              "      <td>Afghanistan</td>\n",
              "      <td>1230459615</td>\n",
              "      <td>B</td>\n",
              "      <td>SOUTH ASIA</td>\n",
              "      <td>42.4</td>\n",
              "    </tr>\n",
              "    <tr>\n",
              "      <th>2</th>\n",
              "      <td>Tayyab Agha</td>\n",
              "      <td>Afghanistan</td>\n",
              "      <td>1225661708</td>\n",
              "      <td>Start</td>\n",
              "      <td>SOUTH ASIA</td>\n",
              "      <td>42.4</td>\n",
              "    </tr>\n",
              "    <tr>\n",
              "      <th>3</th>\n",
              "      <td>Khadija Zahra Ahmadi</td>\n",
              "      <td>Afghanistan</td>\n",
              "      <td>1234741562</td>\n",
              "      <td>Stub</td>\n",
              "      <td>SOUTH ASIA</td>\n",
              "      <td>42.4</td>\n",
              "    </tr>\n",
              "    <tr>\n",
              "      <th>4</th>\n",
              "      <td>Aziza Ahmadyar</td>\n",
              "      <td>Afghanistan</td>\n",
              "      <td>1195651393</td>\n",
              "      <td>Start</td>\n",
              "      <td>SOUTH ASIA</td>\n",
              "      <td>42.4</td>\n",
              "    </tr>\n",
              "  </tbody>\n",
              "</table>\n",
              "</div>\n",
              "    <div class=\"colab-df-buttons\">\n",
              "\n",
              "  <div class=\"colab-df-container\">\n",
              "    <button class=\"colab-df-convert\" onclick=\"convertToInteractive('df-3befdc5a-507c-445c-97d2-3d77b4e12db9')\"\n",
              "            title=\"Convert this dataframe to an interactive table.\"\n",
              "            style=\"display:none;\">\n",
              "\n",
              "  <svg xmlns=\"http://www.w3.org/2000/svg\" height=\"24px\" viewBox=\"0 -960 960 960\">\n",
              "    <path d=\"M120-120v-720h720v720H120Zm60-500h600v-160H180v160Zm220 220h160v-160H400v160Zm0 220h160v-160H400v160ZM180-400h160v-160H180v160Zm440 0h160v-160H620v160ZM180-180h160v-160H180v160Zm440 0h160v-160H620v160Z\"/>\n",
              "  </svg>\n",
              "    </button>\n",
              "\n",
              "  <style>\n",
              "    .colab-df-container {\n",
              "      display:flex;\n",
              "      gap: 12px;\n",
              "    }\n",
              "\n",
              "    .colab-df-convert {\n",
              "      background-color: #E8F0FE;\n",
              "      border: none;\n",
              "      border-radius: 50%;\n",
              "      cursor: pointer;\n",
              "      display: none;\n",
              "      fill: #1967D2;\n",
              "      height: 32px;\n",
              "      padding: 0 0 0 0;\n",
              "      width: 32px;\n",
              "    }\n",
              "\n",
              "    .colab-df-convert:hover {\n",
              "      background-color: #E2EBFA;\n",
              "      box-shadow: 0px 1px 2px rgba(60, 64, 67, 0.3), 0px 1px 3px 1px rgba(60, 64, 67, 0.15);\n",
              "      fill: #174EA6;\n",
              "    }\n",
              "\n",
              "    .colab-df-buttons div {\n",
              "      margin-bottom: 4px;\n",
              "    }\n",
              "\n",
              "    [theme=dark] .colab-df-convert {\n",
              "      background-color: #3B4455;\n",
              "      fill: #D2E3FC;\n",
              "    }\n",
              "\n",
              "    [theme=dark] .colab-df-convert:hover {\n",
              "      background-color: #434B5C;\n",
              "      box-shadow: 0px 1px 3px 1px rgba(0, 0, 0, 0.15);\n",
              "      filter: drop-shadow(0px 1px 2px rgba(0, 0, 0, 0.3));\n",
              "      fill: #FFFFFF;\n",
              "    }\n",
              "  </style>\n",
              "\n",
              "    <script>\n",
              "      const buttonEl =\n",
              "        document.querySelector('#df-3befdc5a-507c-445c-97d2-3d77b4e12db9 button.colab-df-convert');\n",
              "      buttonEl.style.display =\n",
              "        google.colab.kernel.accessAllowed ? 'block' : 'none';\n",
              "\n",
              "      async function convertToInteractive(key) {\n",
              "        const element = document.querySelector('#df-3befdc5a-507c-445c-97d2-3d77b4e12db9');\n",
              "        const dataTable =\n",
              "          await google.colab.kernel.invokeFunction('convertToInteractive',\n",
              "                                                    [key], {});\n",
              "        if (!dataTable) return;\n",
              "\n",
              "        const docLinkHtml = 'Like what you see? Visit the ' +\n",
              "          '<a target=\"_blank\" href=https://colab.research.google.com/notebooks/data_table.ipynb>data table notebook</a>'\n",
              "          + ' to learn more about interactive tables.';\n",
              "        element.innerHTML = '';\n",
              "        dataTable['output_type'] = 'display_data';\n",
              "        await google.colab.output.renderOutput(dataTable, element);\n",
              "        const docLink = document.createElement('div');\n",
              "        docLink.innerHTML = docLinkHtml;\n",
              "        element.appendChild(docLink);\n",
              "      }\n",
              "    </script>\n",
              "  </div>\n",
              "\n",
              "\n",
              "<div id=\"df-5a526461-e3a4-4e99-839e-1ba2a15a8a61\">\n",
              "  <button class=\"colab-df-quickchart\" onclick=\"quickchart('df-5a526461-e3a4-4e99-839e-1ba2a15a8a61')\"\n",
              "            title=\"Suggest charts\"\n",
              "            style=\"display:none;\">\n",
              "\n",
              "<svg xmlns=\"http://www.w3.org/2000/svg\" height=\"24px\"viewBox=\"0 0 24 24\"\n",
              "     width=\"24px\">\n",
              "    <g>\n",
              "        <path d=\"M19 3H5c-1.1 0-2 .9-2 2v14c0 1.1.9 2 2 2h14c1.1 0 2-.9 2-2V5c0-1.1-.9-2-2-2zM9 17H7v-7h2v7zm4 0h-2V7h2v10zm4 0h-2v-4h2v4z\"/>\n",
              "    </g>\n",
              "</svg>\n",
              "  </button>\n",
              "\n",
              "<style>\n",
              "  .colab-df-quickchart {\n",
              "      --bg-color: #E8F0FE;\n",
              "      --fill-color: #1967D2;\n",
              "      --hover-bg-color: #E2EBFA;\n",
              "      --hover-fill-color: #174EA6;\n",
              "      --disabled-fill-color: #AAA;\n",
              "      --disabled-bg-color: #DDD;\n",
              "  }\n",
              "\n",
              "  [theme=dark] .colab-df-quickchart {\n",
              "      --bg-color: #3B4455;\n",
              "      --fill-color: #D2E3FC;\n",
              "      --hover-bg-color: #434B5C;\n",
              "      --hover-fill-color: #FFFFFF;\n",
              "      --disabled-bg-color: #3B4455;\n",
              "      --disabled-fill-color: #666;\n",
              "  }\n",
              "\n",
              "  .colab-df-quickchart {\n",
              "    background-color: var(--bg-color);\n",
              "    border: none;\n",
              "    border-radius: 50%;\n",
              "    cursor: pointer;\n",
              "    display: none;\n",
              "    fill: var(--fill-color);\n",
              "    height: 32px;\n",
              "    padding: 0;\n",
              "    width: 32px;\n",
              "  }\n",
              "\n",
              "  .colab-df-quickchart:hover {\n",
              "    background-color: var(--hover-bg-color);\n",
              "    box-shadow: 0 1px 2px rgba(60, 64, 67, 0.3), 0 1px 3px 1px rgba(60, 64, 67, 0.15);\n",
              "    fill: var(--button-hover-fill-color);\n",
              "  }\n",
              "\n",
              "  .colab-df-quickchart-complete:disabled,\n",
              "  .colab-df-quickchart-complete:disabled:hover {\n",
              "    background-color: var(--disabled-bg-color);\n",
              "    fill: var(--disabled-fill-color);\n",
              "    box-shadow: none;\n",
              "  }\n",
              "\n",
              "  .colab-df-spinner {\n",
              "    border: 2px solid var(--fill-color);\n",
              "    border-color: transparent;\n",
              "    border-bottom-color: var(--fill-color);\n",
              "    animation:\n",
              "      spin 1s steps(1) infinite;\n",
              "  }\n",
              "\n",
              "  @keyframes spin {\n",
              "    0% {\n",
              "      border-color: transparent;\n",
              "      border-bottom-color: var(--fill-color);\n",
              "      border-left-color: var(--fill-color);\n",
              "    }\n",
              "    20% {\n",
              "      border-color: transparent;\n",
              "      border-left-color: var(--fill-color);\n",
              "      border-top-color: var(--fill-color);\n",
              "    }\n",
              "    30% {\n",
              "      border-color: transparent;\n",
              "      border-left-color: var(--fill-color);\n",
              "      border-top-color: var(--fill-color);\n",
              "      border-right-color: var(--fill-color);\n",
              "    }\n",
              "    40% {\n",
              "      border-color: transparent;\n",
              "      border-right-color: var(--fill-color);\n",
              "      border-top-color: var(--fill-color);\n",
              "    }\n",
              "    60% {\n",
              "      border-color: transparent;\n",
              "      border-right-color: var(--fill-color);\n",
              "    }\n",
              "    80% {\n",
              "      border-color: transparent;\n",
              "      border-right-color: var(--fill-color);\n",
              "      border-bottom-color: var(--fill-color);\n",
              "    }\n",
              "    90% {\n",
              "      border-color: transparent;\n",
              "      border-bottom-color: var(--fill-color);\n",
              "    }\n",
              "  }\n",
              "</style>\n",
              "\n",
              "  <script>\n",
              "    async function quickchart(key) {\n",
              "      const quickchartButtonEl =\n",
              "        document.querySelector('#' + key + ' button');\n",
              "      quickchartButtonEl.disabled = true;  // To prevent multiple clicks.\n",
              "      quickchartButtonEl.classList.add('colab-df-spinner');\n",
              "      try {\n",
              "        const charts = await google.colab.kernel.invokeFunction(\n",
              "            'suggestCharts', [key], {});\n",
              "      } catch (error) {\n",
              "        console.error('Error during call to suggestCharts:', error);\n",
              "      }\n",
              "      quickchartButtonEl.classList.remove('colab-df-spinner');\n",
              "      quickchartButtonEl.classList.add('colab-df-quickchart-complete');\n",
              "    }\n",
              "    (() => {\n",
              "      let quickchartButtonEl =\n",
              "        document.querySelector('#df-5a526461-e3a4-4e99-839e-1ba2a15a8a61 button');\n",
              "      quickchartButtonEl.style.display =\n",
              "        google.colab.kernel.accessAllowed ? 'block' : 'none';\n",
              "    })();\n",
              "  </script>\n",
              "</div>\n",
              "\n",
              "    </div>\n",
              "  </div>\n"
            ],
            "application/vnd.google.colaboratory.intrinsic+json": {
              "type": "dataframe",
              "variable_name": "merged_df",
              "summary": "{\n  \"name\": \"merged_df\",\n  \"rows\": 7013,\n  \"fields\": [\n    {\n      \"column\": \"article_title\",\n      \"properties\": {\n        \"dtype\": \"string\",\n        \"num_unique_values\": 6970,\n        \"samples\": [\n          \"Behxhet Nepravishta\",\n          \"Pandolfo Savelli\",\n          \"Jean-Fran\\u00e7ois Bazin\"\n        ],\n        \"semantic_type\": \"\",\n        \"description\": \"\"\n      }\n    },\n    {\n      \"column\": \"country\",\n      \"properties\": {\n        \"dtype\": \"category\",\n        \"num_unique_values\": 166,\n        \"samples\": [\n          \"Mongolia\",\n          \"Somalia\",\n          \"Kuwait\"\n        ],\n        \"semantic_type\": \"\",\n        \"description\": \"\"\n      }\n    },\n    {\n      \"column\": \"revision_id\",\n      \"properties\": {\n        \"dtype\": \"string\",\n        \"num_unique_values\": 6963,\n        \"samples\": [\n          \"1225866384\",\n          \"1180587249\",\n          \"1185717129\"\n        ],\n        \"semantic_type\": \"\",\n        \"description\": \"\"\n      }\n    },\n    {\n      \"column\": \"article_quality\",\n      \"properties\": {\n        \"dtype\": \"category\",\n        \"num_unique_values\": 6,\n        \"samples\": [\n          \"Start\",\n          \"B\",\n          \"FA\"\n        ],\n        \"semantic_type\": \"\",\n        \"description\": \"\"\n      }\n    },\n    {\n      \"column\": \"region\",\n      \"properties\": {\n        \"dtype\": \"category\",\n        \"num_unique_values\": 18,\n        \"samples\": [\n          \"SOUTH ASIA\",\n          \"SOUTHERN EUROPE\",\n          \"EASTERN EUROPE\"\n        ],\n        \"semantic_type\": \"\",\n        \"description\": \"\"\n      }\n    },\n    {\n      \"column\": \"population\",\n      \"properties\": {\n        \"dtype\": \"number\",\n        \"std\": 219.78844467342228,\n        \"min\": 0.0,\n        \"max\": 1428.6,\n        \"num_unique_values\": 131,\n        \"samples\": [\n          10.6,\n          1.1,\n          204.0\n        ],\n        \"semantic_type\": \"\",\n        \"description\": \"\"\n      }\n    }\n  ]\n}"
            }
          },
          "metadata": {},
          "execution_count": 40
        }
      ]
    },
    {
      "cell_type": "code",
      "source": [
        "print(f'Length of the final merged data = {len(merged_df)}')"
      ],
      "metadata": {
        "id": "lui6F7R_9m6C",
        "colab": {
          "base_uri": "https://localhost:8080/"
        },
        "outputId": "e71abe34-9c2e-4b21-c302-ef1d77a97ce3"
      },
      "execution_count": 41,
      "outputs": [
        {
          "output_type": "stream",
          "name": "stdout",
          "text": [
            "Length of the final merged data = 7013\n"
          ]
        }
      ]
    },
    {
      "cell_type": "markdown",
      "source": [
        "We do a little bit of checking of the join we performed in the last step just to make sure everything is alright."
      ],
      "metadata": {
        "id": "B4Ct-S0u-t4i"
      }
    },
    {
      "cell_type": "code",
      "source": [
        "columns = merged_df.columns.values.tolist()\n",
        "for col in columns:\n",
        "    print(f\"Column = {col}\")\n",
        "    # find unique values\n",
        "    print(f'Unique values - {merged_df[col].unique()}')\n",
        "    # check the count of unique values\n",
        "    print(f'Count of unique values - {merged_df[col].nunique()}')\n",
        "    # check if there are nay na values\n",
        "    print(f'Count of NA values - {merged_df[col].isna().sum()}')\n",
        "    print()"
      ],
      "metadata": {
        "id": "gwkJ9hJkaoF_",
        "colab": {
          "base_uri": "https://localhost:8080/"
        },
        "outputId": "779aca42-4f31-43c9-9873-e7ef3fb8df7b"
      },
      "execution_count": 42,
      "outputs": [
        {
          "output_type": "stream",
          "name": "stdout",
          "text": [
            "Column = article_title\n",
            "Unique values - ['Majah Ha Adrif' 'Haroon al-Afghani' 'Tayyab Agha' ...\n",
            " 'Sengezo Tshabangu' 'Herbert Ushewokunze' 'Denis Walker']\n",
            "Count of unique values - 6970\n",
            "Count of NA values - 0\n",
            "\n",
            "Column = country\n",
            "Unique values - ['Afghanistan' 'Albania' 'Algeria' 'Angola' 'Antigua and Barbuda'\n",
            " 'Argentina' 'Armenia' 'Austria' 'Azerbaijan' 'Bahamas' 'Bahrain'\n",
            " 'Bangladesh' 'Barbados' 'Belarus' 'Belgium' 'Belize' 'Benin' 'Bhutan'\n",
            " 'Bolivia' 'Bosnia Herzegovina' 'Botswana' 'Brazil' 'Bulgaria'\n",
            " 'Burkina Faso' 'Myanmar' 'Burundi' 'Cambodia' 'Cameroon' 'Cape Verde'\n",
            " 'Central African Republic' 'Chad' 'Chile' 'China' 'Colombia' 'Comoros'\n",
            " 'Congo' 'Congo DR' 'Costa Rica' 'Croatia' 'Cuba' 'Cyprus' 'Czechia'\n",
            " 'Djibouti' 'Dominican Republic' 'Timor Leste' 'Ecuador' 'Egypt'\n",
            " 'United Arab Emirates' 'Equatorial Guinea' 'Eritrea' 'Estonia' 'Ethiopia'\n",
            " 'Finland' 'France' 'Gabon' 'Gambia' 'Germany' 'Ghana' 'Greece' 'Grenada'\n",
            " 'Guatemala' 'Guinea' 'Guyana' 'Haiti' 'Honduras' 'Hungary' 'India'\n",
            " 'Indonesia' 'Iran' 'Iraq' 'Israel' 'Italy' \"Cote d'Ivoire\" 'Japan'\n",
            " 'Jordan' 'Kazakhstan' 'Kenya' 'Kosovo' 'Kuwait' 'Kyrgyzstan' 'Laos'\n",
            " 'Latvia' 'Lebanon' 'Lesotho' 'Liberia' 'Libya' 'Lithuania' 'Luxembourg'\n",
            " 'North Macedonia' 'Madagascar' 'Malawi' 'Malaysia' 'Maldives' 'Mali'\n",
            " 'Malta' 'Marshall Islands' 'Mauritania' 'Federated States of Micronesia'\n",
            " 'Moldova' 'Monaco' 'Mongolia' 'Montenegro' 'Morocco' 'Mozambique'\n",
            " 'Namibia' 'Nepal' 'Nicaragua' 'Nigeria' 'Niger' 'Norway' 'Oman'\n",
            " 'Pakistan' 'Palestinian Territory' 'Panama' 'Papua New Guinea' 'Paraguay'\n",
            " 'Peru' 'Poland' 'Portugal' 'Qatar' 'Russia' 'Rwanda'\n",
            " 'St. Kitts and Nevis' 'St. Lucia' 'St. Vincent and the Grenadines'\n",
            " 'El Salvador' 'Samoa' 'Saudi Arabia' 'Senegal' 'Serbia' 'Seychelles'\n",
            " 'Sierra Leone' 'Singapore' 'Slovakia' 'Slovenia' 'Solomon Islands'\n",
            " 'Somalia' 'South Africa' 'South Sudan' 'Spain' 'Sri Lanka' 'Sudan'\n",
            " 'Sweden' 'Switzerland' 'Syria' 'Taiwan' 'Tajikistan' 'Tanzania'\n",
            " 'Thailand' 'Togo' 'Tonga' 'Trinidad and Tobago' 'Tunisia' 'Turkey'\n",
            " 'Turkmenistan' 'Tuvalu' 'Uganda' 'Ukraine' 'Uruguay' 'Uzbekistan'\n",
            " 'Vanuatu' 'Venezuela' 'Vietnam' 'Yemen' 'Zambia' 'Zimbabwe']\n",
            "Count of unique values - 166\n",
            "Count of NA values - 0\n",
            "\n",
            "Column = revision_id\n",
            "Unique values - ['1233202991' '1230459615' '1225661708' ... '1228478288' '959111842'\n",
            " '1247902630']\n",
            "Count of unique values - 6963\n",
            "Count of NA values - 0\n",
            "\n",
            "Column = article_quality\n",
            "Unique values - ['Start' 'B' 'Stub' None 'C' 'GA' 'FA']\n",
            "Count of unique values - 6\n",
            "Count of NA values - 37\n",
            "\n",
            "Column = region\n",
            "Unique values - ['SOUTH ASIA' 'SOUTHERN EUROPE' 'NORTHERN AFRICA' 'MIDDLE AFRICA'\n",
            " 'CARIBBEAN' 'SOUTH AMERICA' 'WESTERN ASIA' 'WESTERN EUROPE'\n",
            " 'EASTERN EUROPE' 'CENTRAL AMERICA' 'WESTERN AFRICA' 'SOUTHERN AFRICA'\n",
            " 'SOUTHEAST ASIA' 'EASTERN AFRICA' 'EAST ASIA' 'NORTHERN EUROPE'\n",
            " 'CENTRAL ASIA' 'OCEANIA']\n",
            "Count of unique values - 18\n",
            "Count of NA values - 0\n",
            "\n",
            "Column = population\n",
            "Unique values - [4.2400e+01 2.7000e+00 4.6800e+01 3.6700e+01 1.0000e-01 4.6300e+01\n",
            " 3.0000e+00 9.2000e+00 1.0200e+01 4.0000e-01 1.6000e+00 1.7350e+02\n",
            " 3.0000e-01 1.1800e+01 5.0000e-01 1.3700e+01 8.0000e-01 1.2200e+01\n",
            " 3.4000e+00 2.0400e+02 6.4000e+00 2.2900e+01 5.5400e+01 1.3200e+01\n",
            " 1.7000e+01 2.8100e+01 6.0000e-01 6.2000e+00 1.8300e+01 2.0000e+01\n",
            " 1.4113e+03 5.2200e+01 9.0000e-01 6.1000e+00 1.0230e+02 5.3000e+00\n",
            " 3.8000e+00 1.1000e+01 1.3000e+00 1.0900e+01 1.1000e+00 1.1300e+01\n",
            " 1.4000e+00 1.7100e+01 1.0520e+02 9.5000e+00 1.7000e+00 3.7000e+00\n",
            " 1.2650e+02 5.6000e+00 6.5900e+01 2.4000e+00 2.8000e+00 8.4900e+01\n",
            " 3.4100e+01 1.0600e+01 1.8100e+01 1.4200e+01 1.1600e+01 9.7000e+00\n",
            " 9.6000e+00 1.4286e+03 2.7870e+02 8.9200e+01 4.5500e+01 9.8000e+00\n",
            " 5.8800e+01 3.0900e+01 1.2450e+02 1.1400e+01 1.9900e+01 5.5100e+01\n",
            " 4.4000e+00 6.8000e+00 7.5000e+00 1.9000e+00 5.4000e+00 2.3000e+00\n",
            " 6.9000e+00 2.9000e+00 7.0000e-01 1.8000e+00 3.0400e+01 1.9800e+01\n",
            " 3.3400e+01 2.3300e+01 4.9000e+00 0.0000e+00 3.5000e+00 3.7000e+01\n",
            " 3.3900e+01 2.6000e+00 2.2380e+02 2.7200e+01 5.5000e+00 5.0000e+00\n",
            " 2.4050e+02 4.5000e+00 3.3800e+01 3.7700e+01 1.0500e+01 1.4690e+02\n",
            " 1.4100e+01 2.0000e-01 3.6900e+01 6.6000e+00 8.9000e+00 5.8000e+00\n",
            " 2.1000e+00 6.0700e+01 1.1100e+01 4.8300e+01 2.2700e+01 4.8100e+01\n",
            " 8.8000e+00 2.3200e+01 2.3400e+01 6.7400e+01 6.6000e+01 9.1000e+00\n",
            " 1.1900e+01 8.5600e+01 7.1000e+00 4.8600e+01 3.6000e+00 3.6400e+01\n",
            " 2.8800e+01 9.8900e+01 3.4400e+01 2.0200e+01 1.6700e+01]\n",
            "Count of unique values - 131\n",
            "Count of NA values - 0\n",
            "\n"
          ]
        }
      ]
    },
    {
      "cell_type": "markdown",
      "source": [
        "We write our final data to the CSV file named `wp_politicians_by_country.csv`"
      ],
      "metadata": {
        "id": "MEIG5TCu_CtF"
      }
    },
    {
      "cell_type": "code",
      "source": [
        "merged_df.to_csv('wp_politicians_by_country.csv')"
      ],
      "metadata": {
        "id": "ZuGz3C9S-4jy"
      },
      "execution_count": 43,
      "outputs": []
    },
    {
      "cell_type": "markdown",
      "source": [
        "## 7. Analysis\n",
        "Here, we perform basic analysis on the dataset we created above and generate the following tables -\n",
        "1. Top 10 countries by coverage: The 10 countries with the highest total articles per capita (in descending order) .\n",
        "2. Bottom 10 countries by coverage: The 10 countries with the lowest total articles per capita (in ascending order) .\n",
        "3. Top 10 countries by high quality: The 10 countries with the highest high quality articles per capita (in descending order) .\n",
        "4. Bottom 10 countries by high quality: The 10 countries with the lowest high quality articles per capita (in ascending order).\n",
        "5. Geographic regions by total coverage: A rank ordered list of geographic regions (in descending order) by total articles per capita.\n",
        "6. Geographic regions by high quality coverage: Rank ordered list of geographic regions (in descending order) by high quality articles per capita.\n"
      ],
      "metadata": {
        "id": "aC4G6EEb-8Vi"
      }
    },
    {
      "cell_type": "markdown",
      "source": [
        "### 7.1 Top 10 countries by coverage\n",
        "The 10 countries with the highest total articles per capita (in descending order)"
      ],
      "metadata": {
        "id": "n3UefygzA1of"
      }
    },
    {
      "cell_type": "code",
      "source": [
        "# Calculate articles per capita\n",
        "articles_per_capita = merged_df.groupby('country')['article_title'].count() / merged_df.groupby('country')['population'].first()\n",
        "\n",
        "# Top 10 countries by coverage\n",
        "top_10_countries = articles_per_capita.sort_values(ascending=False).head(10)\n",
        "top_10_countries"
      ],
      "metadata": {
        "id": "Z4A_Lm-GLTHd",
        "colab": {
          "base_uri": "https://localhost:8080/",
          "height": 429
        },
        "outputId": "2f50ad94-c99b-4037-d09d-cecca6e8877a"
      },
      "execution_count": 44,
      "outputs": [
        {
          "output_type": "execute_result",
          "data": {
            "text/plain": [
              "country\n",
              "Monaco                                   inf\n",
              "Tuvalu                                   inf\n",
              "Antigua and Barbuda               330.000000\n",
              "Federated States of Micronesia    140.000000\n",
              "Marshall Islands                  130.000000\n",
              "Tonga                             100.000000\n",
              "Barbados                           83.333333\n",
              "Montenegro                         60.000000\n",
              "Seychelles                         60.000000\n",
              "Maldives                           55.000000\n",
              "dtype: float64"
            ],
            "text/html": [
              "<div>\n",
              "<style scoped>\n",
              "    .dataframe tbody tr th:only-of-type {\n",
              "        vertical-align: middle;\n",
              "    }\n",
              "\n",
              "    .dataframe tbody tr th {\n",
              "        vertical-align: top;\n",
              "    }\n",
              "\n",
              "    .dataframe thead th {\n",
              "        text-align: right;\n",
              "    }\n",
              "</style>\n",
              "<table border=\"1\" class=\"dataframe\">\n",
              "  <thead>\n",
              "    <tr style=\"text-align: right;\">\n",
              "      <th></th>\n",
              "      <th>0</th>\n",
              "    </tr>\n",
              "    <tr>\n",
              "      <th>country</th>\n",
              "      <th></th>\n",
              "    </tr>\n",
              "  </thead>\n",
              "  <tbody>\n",
              "    <tr>\n",
              "      <th>Monaco</th>\n",
              "      <td>inf</td>\n",
              "    </tr>\n",
              "    <tr>\n",
              "      <th>Tuvalu</th>\n",
              "      <td>inf</td>\n",
              "    </tr>\n",
              "    <tr>\n",
              "      <th>Antigua and Barbuda</th>\n",
              "      <td>330.000000</td>\n",
              "    </tr>\n",
              "    <tr>\n",
              "      <th>Federated States of Micronesia</th>\n",
              "      <td>140.000000</td>\n",
              "    </tr>\n",
              "    <tr>\n",
              "      <th>Marshall Islands</th>\n",
              "      <td>130.000000</td>\n",
              "    </tr>\n",
              "    <tr>\n",
              "      <th>Tonga</th>\n",
              "      <td>100.000000</td>\n",
              "    </tr>\n",
              "    <tr>\n",
              "      <th>Barbados</th>\n",
              "      <td>83.333333</td>\n",
              "    </tr>\n",
              "    <tr>\n",
              "      <th>Montenegro</th>\n",
              "      <td>60.000000</td>\n",
              "    </tr>\n",
              "    <tr>\n",
              "      <th>Seychelles</th>\n",
              "      <td>60.000000</td>\n",
              "    </tr>\n",
              "    <tr>\n",
              "      <th>Maldives</th>\n",
              "      <td>55.000000</td>\n",
              "    </tr>\n",
              "  </tbody>\n",
              "</table>\n",
              "</div><br><label><b>dtype:</b> float64</label>"
            ]
          },
          "metadata": {},
          "execution_count": 44
        }
      ]
    },
    {
      "cell_type": "markdown",
      "source": [
        "### 7.2 Bottom 10 countries by coverage\n",
        "The 10 countries with the lowest total articles per capita (in ascending order)."
      ],
      "metadata": {
        "id": "X0adPDTsA7Yq"
      }
    },
    {
      "cell_type": "code",
      "source": [
        "# Bottom 10 countries by coverage\n",
        "bottom_10_countries = articles_per_capita.sort_values(ascending=True).head(10)\n",
        "bottom_10_countries"
      ],
      "metadata": {
        "id": "Bs26NyL2Ls4v",
        "colab": {
          "base_uri": "https://localhost:8080/",
          "height": 429
        },
        "outputId": "14eb6359-693c-42df-c6ad-9b3127a091a4"
      },
      "execution_count": 45,
      "outputs": [
        {
          "output_type": "execute_result",
          "data": {
            "text/plain": [
              "country\n",
              "China            0.011337\n",
              "India            0.105698\n",
              "Ghana            0.117302\n",
              "Saudi Arabia     0.135501\n",
              "Zambia           0.148515\n",
              "Norway           0.181818\n",
              "Israel           0.204082\n",
              "Egypt            0.304183\n",
              "Cote d'Ivoire    0.323625\n",
              "Ethiopia         0.347826\n",
              "dtype: float64"
            ],
            "text/html": [
              "<div>\n",
              "<style scoped>\n",
              "    .dataframe tbody tr th:only-of-type {\n",
              "        vertical-align: middle;\n",
              "    }\n",
              "\n",
              "    .dataframe tbody tr th {\n",
              "        vertical-align: top;\n",
              "    }\n",
              "\n",
              "    .dataframe thead th {\n",
              "        text-align: right;\n",
              "    }\n",
              "</style>\n",
              "<table border=\"1\" class=\"dataframe\">\n",
              "  <thead>\n",
              "    <tr style=\"text-align: right;\">\n",
              "      <th></th>\n",
              "      <th>0</th>\n",
              "    </tr>\n",
              "    <tr>\n",
              "      <th>country</th>\n",
              "      <th></th>\n",
              "    </tr>\n",
              "  </thead>\n",
              "  <tbody>\n",
              "    <tr>\n",
              "      <th>China</th>\n",
              "      <td>0.011337</td>\n",
              "    </tr>\n",
              "    <tr>\n",
              "      <th>India</th>\n",
              "      <td>0.105698</td>\n",
              "    </tr>\n",
              "    <tr>\n",
              "      <th>Ghana</th>\n",
              "      <td>0.117302</td>\n",
              "    </tr>\n",
              "    <tr>\n",
              "      <th>Saudi Arabia</th>\n",
              "      <td>0.135501</td>\n",
              "    </tr>\n",
              "    <tr>\n",
              "      <th>Zambia</th>\n",
              "      <td>0.148515</td>\n",
              "    </tr>\n",
              "    <tr>\n",
              "      <th>Norway</th>\n",
              "      <td>0.181818</td>\n",
              "    </tr>\n",
              "    <tr>\n",
              "      <th>Israel</th>\n",
              "      <td>0.204082</td>\n",
              "    </tr>\n",
              "    <tr>\n",
              "      <th>Egypt</th>\n",
              "      <td>0.304183</td>\n",
              "    </tr>\n",
              "    <tr>\n",
              "      <th>Cote d'Ivoire</th>\n",
              "      <td>0.323625</td>\n",
              "    </tr>\n",
              "    <tr>\n",
              "      <th>Ethiopia</th>\n",
              "      <td>0.347826</td>\n",
              "    </tr>\n",
              "  </tbody>\n",
              "</table>\n",
              "</div><br><label><b>dtype:</b> float64</label>"
            ]
          },
          "metadata": {},
          "execution_count": 45
        }
      ]
    },
    {
      "cell_type": "markdown",
      "source": [
        "### 7.3 Top 10 countries by high quality\n",
        "The 10 countries with the highest high quality articles per capita (in descending order)"
      ],
      "metadata": {
        "id": "qt8CPexKBFGa"
      }
    },
    {
      "cell_type": "code",
      "source": [
        "# Filter for high-quality articles\n",
        "high_quality_articles = merged_df[(merged_df['article_quality'] == 'FA') | (merged_df['article_quality'] == 'GA')]\n",
        "\n",
        "# High-quality articles per capita\n",
        "high_quality_articles_per_capita = high_quality_articles.groupby('country')['article_title'].count() / merged_df.groupby('country')['population'].first()\n",
        "\n",
        "# Top 10 countries by high-quality article coverage\n",
        "top_10_high_quality_countries = high_quality_articles_per_capita.sort_values(ascending=False).head(10)\n",
        "top_10_high_quality_countries"
      ],
      "metadata": {
        "id": "bIO0HRZJMa9n",
        "colab": {
          "base_uri": "https://localhost:8080/",
          "height": 429
        },
        "outputId": "99aeda8e-d089-469b-e40d-bb8299905e72"
      },
      "execution_count": 46,
      "outputs": [
        {
          "output_type": "execute_result",
          "data": {
            "text/plain": [
              "country\n",
              "Montenegro               5.000000\n",
              "Luxembourg               2.857143\n",
              "Albania                  2.592593\n",
              "Kosovo                   2.352941\n",
              "Maldives                 1.666667\n",
              "Lithuania                1.379310\n",
              "Croatia                  1.315789\n",
              "Guyana                   1.250000\n",
              "Palestinian Territory    1.090909\n",
              "Slovenia                 0.952381\n",
              "dtype: float64"
            ],
            "text/html": [
              "<div>\n",
              "<style scoped>\n",
              "    .dataframe tbody tr th:only-of-type {\n",
              "        vertical-align: middle;\n",
              "    }\n",
              "\n",
              "    .dataframe tbody tr th {\n",
              "        vertical-align: top;\n",
              "    }\n",
              "\n",
              "    .dataframe thead th {\n",
              "        text-align: right;\n",
              "    }\n",
              "</style>\n",
              "<table border=\"1\" class=\"dataframe\">\n",
              "  <thead>\n",
              "    <tr style=\"text-align: right;\">\n",
              "      <th></th>\n",
              "      <th>0</th>\n",
              "    </tr>\n",
              "    <tr>\n",
              "      <th>country</th>\n",
              "      <th></th>\n",
              "    </tr>\n",
              "  </thead>\n",
              "  <tbody>\n",
              "    <tr>\n",
              "      <th>Montenegro</th>\n",
              "      <td>5.000000</td>\n",
              "    </tr>\n",
              "    <tr>\n",
              "      <th>Luxembourg</th>\n",
              "      <td>2.857143</td>\n",
              "    </tr>\n",
              "    <tr>\n",
              "      <th>Albania</th>\n",
              "      <td>2.592593</td>\n",
              "    </tr>\n",
              "    <tr>\n",
              "      <th>Kosovo</th>\n",
              "      <td>2.352941</td>\n",
              "    </tr>\n",
              "    <tr>\n",
              "      <th>Maldives</th>\n",
              "      <td>1.666667</td>\n",
              "    </tr>\n",
              "    <tr>\n",
              "      <th>Lithuania</th>\n",
              "      <td>1.379310</td>\n",
              "    </tr>\n",
              "    <tr>\n",
              "      <th>Croatia</th>\n",
              "      <td>1.315789</td>\n",
              "    </tr>\n",
              "    <tr>\n",
              "      <th>Guyana</th>\n",
              "      <td>1.250000</td>\n",
              "    </tr>\n",
              "    <tr>\n",
              "      <th>Palestinian Territory</th>\n",
              "      <td>1.090909</td>\n",
              "    </tr>\n",
              "    <tr>\n",
              "      <th>Slovenia</th>\n",
              "      <td>0.952381</td>\n",
              "    </tr>\n",
              "  </tbody>\n",
              "</table>\n",
              "</div><br><label><b>dtype:</b> float64</label>"
            ]
          },
          "metadata": {},
          "execution_count": 46
        }
      ]
    },
    {
      "cell_type": "markdown",
      "source": [
        "### 7.4 Bottom 10 countries by high quality\n",
        "The 10 countries with the lowest high quality articles per capita (in ascending order)."
      ],
      "metadata": {
        "id": "2oRFBpYCBPj5"
      }
    },
    {
      "cell_type": "code",
      "source": [
        "# Bottom 10 countries by high-quality article coverage\n",
        "bottom_10_high_quality_countries = high_quality_articles_per_capita.sort_values(ascending=True).head(10)\n",
        "bottom_10_high_quality_countries"
      ],
      "metadata": {
        "id": "zALhaM64Mq_S",
        "colab": {
          "base_uri": "https://localhost:8080/",
          "height": 429
        },
        "outputId": "82d2f5ce-0b97-4b6d-cafe-247a51551e27"
      },
      "execution_count": 47,
      "outputs": [
        {
          "output_type": "execute_result",
          "data": {
            "text/plain": [
              "country\n",
              "Bangladesh    0.005764\n",
              "Egypt         0.009506\n",
              "Ethiopia      0.015810\n",
              "Japan         0.016064\n",
              "Pakistan      0.016632\n",
              "Colombia      0.019157\n",
              "Congo DR      0.019550\n",
              "Vietnam       0.020222\n",
              "Uganda        0.020576\n",
              "Algeria       0.021368\n",
              "dtype: float64"
            ],
            "text/html": [
              "<div>\n",
              "<style scoped>\n",
              "    .dataframe tbody tr th:only-of-type {\n",
              "        vertical-align: middle;\n",
              "    }\n",
              "\n",
              "    .dataframe tbody tr th {\n",
              "        vertical-align: top;\n",
              "    }\n",
              "\n",
              "    .dataframe thead th {\n",
              "        text-align: right;\n",
              "    }\n",
              "</style>\n",
              "<table border=\"1\" class=\"dataframe\">\n",
              "  <thead>\n",
              "    <tr style=\"text-align: right;\">\n",
              "      <th></th>\n",
              "      <th>0</th>\n",
              "    </tr>\n",
              "    <tr>\n",
              "      <th>country</th>\n",
              "      <th></th>\n",
              "    </tr>\n",
              "  </thead>\n",
              "  <tbody>\n",
              "    <tr>\n",
              "      <th>Bangladesh</th>\n",
              "      <td>0.005764</td>\n",
              "    </tr>\n",
              "    <tr>\n",
              "      <th>Egypt</th>\n",
              "      <td>0.009506</td>\n",
              "    </tr>\n",
              "    <tr>\n",
              "      <th>Ethiopia</th>\n",
              "      <td>0.015810</td>\n",
              "    </tr>\n",
              "    <tr>\n",
              "      <th>Japan</th>\n",
              "      <td>0.016064</td>\n",
              "    </tr>\n",
              "    <tr>\n",
              "      <th>Pakistan</th>\n",
              "      <td>0.016632</td>\n",
              "    </tr>\n",
              "    <tr>\n",
              "      <th>Colombia</th>\n",
              "      <td>0.019157</td>\n",
              "    </tr>\n",
              "    <tr>\n",
              "      <th>Congo DR</th>\n",
              "      <td>0.019550</td>\n",
              "    </tr>\n",
              "    <tr>\n",
              "      <th>Vietnam</th>\n",
              "      <td>0.020222</td>\n",
              "    </tr>\n",
              "    <tr>\n",
              "      <th>Uganda</th>\n",
              "      <td>0.020576</td>\n",
              "    </tr>\n",
              "    <tr>\n",
              "      <th>Algeria</th>\n",
              "      <td>0.021368</td>\n",
              "    </tr>\n",
              "  </tbody>\n",
              "</table>\n",
              "</div><br><label><b>dtype:</b> float64</label>"
            ]
          },
          "metadata": {},
          "execution_count": 47
        }
      ]
    },
    {
      "cell_type": "markdown",
      "source": [
        "### 7.5 Geographic regions by total coverage\n",
        "A rank ordered list of geographic regions (in descending order) by total articles per capita."
      ],
      "metadata": {
        "id": "najVfGthBYE0"
      }
    },
    {
      "cell_type": "code",
      "source": [
        "# Geographic regions by total coverage\n",
        "regions_total_coverage = merged_df.groupby('region')['article_title'].count() / merged_df.groupby('region')['population'].first()\n",
        "regions_total_coverage_ranked = regions_total_coverage.sort_values(ascending=False)\n",
        "\n",
        "# Geographic regions by high quality coverage\n",
        "high_quality_articles_region = merged_df[(merged_df['article_quality'] == 'FA') | (merged_df['article_quality'] == 'GA')]\n",
        "regions_high_quality_coverage = high_quality_articles_region.groupby('region')['article_title'].count() / merged_df.groupby('region')['population'].first()\n",
        "regions_total_coverage_ranked"
      ],
      "metadata": {
        "id": "bsgyceSSM0gD",
        "colab": {
          "base_uri": "https://localhost:8080/",
          "height": 680
        },
        "outputId": "232c3e77-657b-48b1-9921-e1b97b5f9cf2"
      },
      "execution_count": 48,
      "outputs": [
        {
          "output_type": "execute_result",
          "data": {
            "text/plain": [
              "region\n",
              "CARIBBEAN          2190.000000\n",
              "OCEANIA             720.000000\n",
              "CENTRAL AMERICA     376.000000\n",
              "SOUTHERN EUROPE     295.185185\n",
              "WESTERN ASIA        203.333333\n",
              "NORTHERN EUROPE     136.428571\n",
              "EASTERN EUROPE       77.065217\n",
              "WESTERN EUROPE       54.130435\n",
              "EASTERN AFRICA       50.378788\n",
              "SOUTHERN AFRICA      45.555556\n",
              "WESTERN AFRICA       37.591241\n",
              "SOUTH ASIA           15.801887\n",
              "SOUTH AMERICA        12.289417\n",
              "SOUTHEAST ASIA        7.148014\n",
              "NORTHERN AFRICA       6.452991\n",
              "MIDDLE AFRICA         6.294278\n",
              "CENTRAL ASIA          5.326633\n",
              "EAST ASIA             0.107702\n",
              "dtype: float64"
            ],
            "text/html": [
              "<div>\n",
              "<style scoped>\n",
              "    .dataframe tbody tr th:only-of-type {\n",
              "        vertical-align: middle;\n",
              "    }\n",
              "\n",
              "    .dataframe tbody tr th {\n",
              "        vertical-align: top;\n",
              "    }\n",
              "\n",
              "    .dataframe thead th {\n",
              "        text-align: right;\n",
              "    }\n",
              "</style>\n",
              "<table border=\"1\" class=\"dataframe\">\n",
              "  <thead>\n",
              "    <tr style=\"text-align: right;\">\n",
              "      <th></th>\n",
              "      <th>0</th>\n",
              "    </tr>\n",
              "    <tr>\n",
              "      <th>region</th>\n",
              "      <th></th>\n",
              "    </tr>\n",
              "  </thead>\n",
              "  <tbody>\n",
              "    <tr>\n",
              "      <th>CARIBBEAN</th>\n",
              "      <td>2190.000000</td>\n",
              "    </tr>\n",
              "    <tr>\n",
              "      <th>OCEANIA</th>\n",
              "      <td>720.000000</td>\n",
              "    </tr>\n",
              "    <tr>\n",
              "      <th>CENTRAL AMERICA</th>\n",
              "      <td>376.000000</td>\n",
              "    </tr>\n",
              "    <tr>\n",
              "      <th>SOUTHERN EUROPE</th>\n",
              "      <td>295.185185</td>\n",
              "    </tr>\n",
              "    <tr>\n",
              "      <th>WESTERN ASIA</th>\n",
              "      <td>203.333333</td>\n",
              "    </tr>\n",
              "    <tr>\n",
              "      <th>NORTHERN EUROPE</th>\n",
              "      <td>136.428571</td>\n",
              "    </tr>\n",
              "    <tr>\n",
              "      <th>EASTERN EUROPE</th>\n",
              "      <td>77.065217</td>\n",
              "    </tr>\n",
              "    <tr>\n",
              "      <th>WESTERN EUROPE</th>\n",
              "      <td>54.130435</td>\n",
              "    </tr>\n",
              "    <tr>\n",
              "      <th>EASTERN AFRICA</th>\n",
              "      <td>50.378788</td>\n",
              "    </tr>\n",
              "    <tr>\n",
              "      <th>SOUTHERN AFRICA</th>\n",
              "      <td>45.555556</td>\n",
              "    </tr>\n",
              "    <tr>\n",
              "      <th>WESTERN AFRICA</th>\n",
              "      <td>37.591241</td>\n",
              "    </tr>\n",
              "    <tr>\n",
              "      <th>SOUTH ASIA</th>\n",
              "      <td>15.801887</td>\n",
              "    </tr>\n",
              "    <tr>\n",
              "      <th>SOUTH AMERICA</th>\n",
              "      <td>12.289417</td>\n",
              "    </tr>\n",
              "    <tr>\n",
              "      <th>SOUTHEAST ASIA</th>\n",
              "      <td>7.148014</td>\n",
              "    </tr>\n",
              "    <tr>\n",
              "      <th>NORTHERN AFRICA</th>\n",
              "      <td>6.452991</td>\n",
              "    </tr>\n",
              "    <tr>\n",
              "      <th>MIDDLE AFRICA</th>\n",
              "      <td>6.294278</td>\n",
              "    </tr>\n",
              "    <tr>\n",
              "      <th>CENTRAL ASIA</th>\n",
              "      <td>5.326633</td>\n",
              "    </tr>\n",
              "    <tr>\n",
              "      <th>EAST ASIA</th>\n",
              "      <td>0.107702</td>\n",
              "    </tr>\n",
              "  </tbody>\n",
              "</table>\n",
              "</div><br><label><b>dtype:</b> float64</label>"
            ]
          },
          "metadata": {},
          "execution_count": 48
        }
      ]
    },
    {
      "cell_type": "markdown",
      "source": [
        "### 7.6 Geographic regions by high quality coverage\n",
        "Rank ordered list of geographic regions (in descending order) by high quality articles per capita."
      ],
      "metadata": {
        "id": "IJBnh8hZByXN"
      }
    },
    {
      "cell_type": "code",
      "source": [
        "regions_high_quality_coverage_ranked = regions_high_quality_coverage.sort_values(ascending=False)\n",
        "regions_high_quality_coverage_ranked"
      ],
      "metadata": {
        "id": "iJbGnK2cNZL7",
        "colab": {
          "base_uri": "https://localhost:8080/",
          "height": 680
        },
        "outputId": "551bc241-6765-4568-8dc8-e1e3ca4d368d"
      },
      "execution_count": 49,
      "outputs": [
        {
          "output_type": "execute_result",
          "data": {
            "text/plain": [
              "region\n",
              "CARIBBEAN          90.000000\n",
              "CENTRAL AMERICA    20.000000\n",
              "SOUTHERN EUROPE    19.629630\n",
              "OCEANIA            10.000000\n",
              "WESTERN ASIA        9.000000\n",
              "NORTHERN EUROPE     5.714286\n",
              "EASTERN EUROPE      4.130435\n",
              "SOUTHERN AFRICA     2.962963\n",
              "WESTERN EUROPE      2.282609\n",
              "EASTERN AFRICA      1.287879\n",
              "WESTERN AFRICA      0.948905\n",
              "SOUTH ASIA          0.495283\n",
              "SOUTHEAST ASIA      0.451264\n",
              "SOUTH AMERICA       0.410367\n",
              "NORTHERN AFRICA     0.363248\n",
              "CENTRAL ASIA        0.251256\n",
              "MIDDLE AFRICA       0.217984\n",
              "EAST ASIA           0.002126\n",
              "dtype: float64"
            ],
            "text/html": [
              "<div>\n",
              "<style scoped>\n",
              "    .dataframe tbody tr th:only-of-type {\n",
              "        vertical-align: middle;\n",
              "    }\n",
              "\n",
              "    .dataframe tbody tr th {\n",
              "        vertical-align: top;\n",
              "    }\n",
              "\n",
              "    .dataframe thead th {\n",
              "        text-align: right;\n",
              "    }\n",
              "</style>\n",
              "<table border=\"1\" class=\"dataframe\">\n",
              "  <thead>\n",
              "    <tr style=\"text-align: right;\">\n",
              "      <th></th>\n",
              "      <th>0</th>\n",
              "    </tr>\n",
              "    <tr>\n",
              "      <th>region</th>\n",
              "      <th></th>\n",
              "    </tr>\n",
              "  </thead>\n",
              "  <tbody>\n",
              "    <tr>\n",
              "      <th>CARIBBEAN</th>\n",
              "      <td>90.000000</td>\n",
              "    </tr>\n",
              "    <tr>\n",
              "      <th>CENTRAL AMERICA</th>\n",
              "      <td>20.000000</td>\n",
              "    </tr>\n",
              "    <tr>\n",
              "      <th>SOUTHERN EUROPE</th>\n",
              "      <td>19.629630</td>\n",
              "    </tr>\n",
              "    <tr>\n",
              "      <th>OCEANIA</th>\n",
              "      <td>10.000000</td>\n",
              "    </tr>\n",
              "    <tr>\n",
              "      <th>WESTERN ASIA</th>\n",
              "      <td>9.000000</td>\n",
              "    </tr>\n",
              "    <tr>\n",
              "      <th>NORTHERN EUROPE</th>\n",
              "      <td>5.714286</td>\n",
              "    </tr>\n",
              "    <tr>\n",
              "      <th>EASTERN EUROPE</th>\n",
              "      <td>4.130435</td>\n",
              "    </tr>\n",
              "    <tr>\n",
              "      <th>SOUTHERN AFRICA</th>\n",
              "      <td>2.962963</td>\n",
              "    </tr>\n",
              "    <tr>\n",
              "      <th>WESTERN EUROPE</th>\n",
              "      <td>2.282609</td>\n",
              "    </tr>\n",
              "    <tr>\n",
              "      <th>EASTERN AFRICA</th>\n",
              "      <td>1.287879</td>\n",
              "    </tr>\n",
              "    <tr>\n",
              "      <th>WESTERN AFRICA</th>\n",
              "      <td>0.948905</td>\n",
              "    </tr>\n",
              "    <tr>\n",
              "      <th>SOUTH ASIA</th>\n",
              "      <td>0.495283</td>\n",
              "    </tr>\n",
              "    <tr>\n",
              "      <th>SOUTHEAST ASIA</th>\n",
              "      <td>0.451264</td>\n",
              "    </tr>\n",
              "    <tr>\n",
              "      <th>SOUTH AMERICA</th>\n",
              "      <td>0.410367</td>\n",
              "    </tr>\n",
              "    <tr>\n",
              "      <th>NORTHERN AFRICA</th>\n",
              "      <td>0.363248</td>\n",
              "    </tr>\n",
              "    <tr>\n",
              "      <th>CENTRAL ASIA</th>\n",
              "      <td>0.251256</td>\n",
              "    </tr>\n",
              "    <tr>\n",
              "      <th>MIDDLE AFRICA</th>\n",
              "      <td>0.217984</td>\n",
              "    </tr>\n",
              "    <tr>\n",
              "      <th>EAST ASIA</th>\n",
              "      <td>0.002126</td>\n",
              "    </tr>\n",
              "  </tbody>\n",
              "</table>\n",
              "</div><br><label><b>dtype:</b> float64</label>"
            ]
          },
          "metadata": {},
          "execution_count": 49
        }
      ]
    },
    {
      "cell_type": "markdown",
      "source": [
        "## Research Implications\n",
        "We found some interesting patterns. The number and quality of articles varied a lot depending on where you looked. This suggests that Wikipedia might have some biases in how it covers political figures.\n",
        "\n",
        "Why might that be? Well, to start with, having access to the internet and knowing how to use it makes a big difference in how much people can contribute to Wikipedia. Countries with fewer people online or who aren't as comfortable with technology might have fewer articles. Second, a country's politics and culture can influence whether people want to write or edit articles about their politicians. Restrive governments like North Korea and China might have fewer people willing to write articles, fearing negative consequences for any mistakes. And finally, how well people in different countries understand English can also affect the quality and quantity of articles.\n",
        "\n",
        "Some of the findings were also very interesting. For example, the huge difference in coverage between rich and poor countries shows that Wikipedia doesn't represent everyone equally. This could lead to a skewed view of global politics, since countries with fewer articles might not be heard as much. This might need some looking into to ensure equitable coverage and access to political information across the globe.\n",
        "\n",
        "To make Wikipedia more fair and balanced, we need to make the articles more accessible to the people in less developed countries and understand why Wikipedia is important. We should also encourage more people from different backgrounds to contribute to Wikipedia. This will help us create a more complete and accurate picture of political figures and issues around the world."
      ],
      "metadata": {
        "id": "z28QyTSfjW9v"
      }
    }
  ]
}